{
 "cells": [
  {
   "cell_type": "markdown",
   "metadata": {},
   "source": [
    "1. Explain what your use is and why you chose it. (Background + problem statement)\n",
    "2. What is the business metric? (recall, precicsion, accuracy, etc)\n",
    "3. Import libraries\n",
    "4. Get the data, split into training and testing data (show how target variable compares between the two)\n",
    "5. Data exploration\n",
    "    - Missing values\n",
    "6. Transformations\n",
    "    - Scaling\n",
    "    - Normalization\n",
    "    - Encoding\n",
    "7. Models\n",
    "    - Baseline Logistic regression\n",
    "    - random forest\n",
    "    - GBM\n",
    "    - Decision Tree\n",
    "    \n",
    "    Accuraccy, AUC, Precision, Recall, F1\n",
    "    \n",
    "    ROC\n",
    "8. Pick best model and explain why it is the best\n",
    "9. Rerun best model on entire data set."
   ]
  },
  {
   "cell_type": "markdown",
   "metadata": {},
   "source": [
    "This dataset contains information about borrowers and will be used to predict whether or not someone will fully pay back a loan. A value of 1 in the target variable indicates that they did not fully pay off the loan. \n",
    "\n",
    "I chose this dataset because it had a significant number of data points (>5000) and it was a dataset I had not looked at before.\n",
    "\n",
    "A false positive would be predicting that someone will not fully pay back a loan when in realty they would pay it back. The cost of a false positive is then the cost of not giving someone a loan: the lose of the profit you would get from that loan.\n",
    "\n",
    "A false negative is the opposite situation, predicting that someone will fully pay back a loan when in reality they would not. The cost of a false negative is then the lose of the profit you would get from that loan along with some portion of the loan itself.\n",
    "\n",
    "False negatives are more costly than false positives but both have a cost associated with them. The metric of interest is then a version of the F-score that weights false negatives more than false positives (F-2)\n"
   ]
  },
  {
   "cell_type": "code",
   "execution_count": 166,
   "metadata": {},
   "outputs": [],
   "source": [
    "import pandas as pd\n",
    "import numpy as np\n",
    "from scipy import stats\n",
    "import matplotlib as mpl\n",
    "import matplotlib.pyplot as plt\n",
    "import seaborn as sns\n",
    "import os\n",
    "\n",
    "from sklearn.metrics import classification_report, confusion_matrix, roc_curve, roc_auc_score, auc, accuracy_score\n",
    "from sklearn.metrics import f1_score, fbeta_score, make_scorer\n",
    "from sklearn.metrics import precision_score, recall_score\n",
    "from sklearn.metrics import RocCurveDisplay\n",
    "from sklearn.calibration import calibration_curve\n",
    "from sklearn.model_selection import ShuffleSplit,train_test_split, cross_val_score, GridSearchCV\n",
    "from sklearn.model_selection import KFold\n",
    "from sklearn.preprocessing import OneHotEncoder, LabelEncoder, label_binarize, StandardScaler, MinMaxScaler, power_transform, PowerTransformer \n",
    "from sklearn.compose import ColumnTransformer\n",
    "from sklearn.pipeline import Pipeline\n",
    "from sklearn.impute import SimpleImputer\n",
    "from sklearn.preprocessing import StandardScaler, OneHotEncoder\n",
    "from sklearn.linear_model import LogisticRegression\n",
    "from sklearn.tree import DecisionTreeClassifier, plot_tree\n",
    "from sklearn.ensemble import RandomForestClassifier, GradientBoostingClassifier"
   ]
  },
  {
   "cell_type": "markdown",
   "metadata": {},
   "source": [
    "## Pre data exploration"
   ]
  },
  {
   "cell_type": "markdown",
   "metadata": {},
   "source": [
    "### Load dataset "
   ]
  },
  {
   "cell_type": "code",
   "execution_count": 2,
   "metadata": {
    "scrolled": true
   },
   "outputs": [
    {
     "data": {
      "text/html": [
       "<div>\n",
       "<style scoped>\n",
       "    .dataframe tbody tr th:only-of-type {\n",
       "        vertical-align: middle;\n",
       "    }\n",
       "\n",
       "    .dataframe tbody tr th {\n",
       "        vertical-align: top;\n",
       "    }\n",
       "\n",
       "    .dataframe thead th {\n",
       "        text-align: right;\n",
       "    }\n",
       "</style>\n",
       "<table border=\"1\" class=\"dataframe\">\n",
       "  <thead>\n",
       "    <tr style=\"text-align: right;\">\n",
       "      <th></th>\n",
       "      <th>credit.policy</th>\n",
       "      <th>purpose</th>\n",
       "      <th>int.rate</th>\n",
       "      <th>installment</th>\n",
       "      <th>log.annual.inc</th>\n",
       "      <th>dti</th>\n",
       "      <th>fico</th>\n",
       "      <th>days.with.cr.line</th>\n",
       "      <th>revol.bal</th>\n",
       "      <th>revol.util</th>\n",
       "      <th>inq.last.6mths</th>\n",
       "      <th>delinq.2yrs</th>\n",
       "      <th>pub.rec</th>\n",
       "      <th>not.fully.paid</th>\n",
       "    </tr>\n",
       "  </thead>\n",
       "  <tbody>\n",
       "    <tr>\n",
       "      <th>0</th>\n",
       "      <td>1</td>\n",
       "      <td>debt_consolidation</td>\n",
       "      <td>0.1189</td>\n",
       "      <td>829.10</td>\n",
       "      <td>11.350407</td>\n",
       "      <td>19.48</td>\n",
       "      <td>737</td>\n",
       "      <td>5639.958333</td>\n",
       "      <td>28854</td>\n",
       "      <td>52.1</td>\n",
       "      <td>0</td>\n",
       "      <td>0</td>\n",
       "      <td>0</td>\n",
       "      <td>0</td>\n",
       "    </tr>\n",
       "    <tr>\n",
       "      <th>1</th>\n",
       "      <td>1</td>\n",
       "      <td>credit_card</td>\n",
       "      <td>0.1071</td>\n",
       "      <td>228.22</td>\n",
       "      <td>11.082143</td>\n",
       "      <td>14.29</td>\n",
       "      <td>707</td>\n",
       "      <td>2760.000000</td>\n",
       "      <td>33623</td>\n",
       "      <td>76.7</td>\n",
       "      <td>0</td>\n",
       "      <td>0</td>\n",
       "      <td>0</td>\n",
       "      <td>0</td>\n",
       "    </tr>\n",
       "    <tr>\n",
       "      <th>2</th>\n",
       "      <td>1</td>\n",
       "      <td>debt_consolidation</td>\n",
       "      <td>0.1357</td>\n",
       "      <td>366.86</td>\n",
       "      <td>10.373491</td>\n",
       "      <td>11.63</td>\n",
       "      <td>682</td>\n",
       "      <td>4710.000000</td>\n",
       "      <td>3511</td>\n",
       "      <td>25.6</td>\n",
       "      <td>1</td>\n",
       "      <td>0</td>\n",
       "      <td>0</td>\n",
       "      <td>0</td>\n",
       "    </tr>\n",
       "    <tr>\n",
       "      <th>3</th>\n",
       "      <td>1</td>\n",
       "      <td>debt_consolidation</td>\n",
       "      <td>0.1008</td>\n",
       "      <td>162.34</td>\n",
       "      <td>11.350407</td>\n",
       "      <td>8.10</td>\n",
       "      <td>712</td>\n",
       "      <td>2699.958333</td>\n",
       "      <td>33667</td>\n",
       "      <td>73.2</td>\n",
       "      <td>1</td>\n",
       "      <td>0</td>\n",
       "      <td>0</td>\n",
       "      <td>0</td>\n",
       "    </tr>\n",
       "    <tr>\n",
       "      <th>4</th>\n",
       "      <td>1</td>\n",
       "      <td>credit_card</td>\n",
       "      <td>0.1426</td>\n",
       "      <td>102.92</td>\n",
       "      <td>11.299732</td>\n",
       "      <td>14.97</td>\n",
       "      <td>667</td>\n",
       "      <td>4066.000000</td>\n",
       "      <td>4740</td>\n",
       "      <td>39.5</td>\n",
       "      <td>0</td>\n",
       "      <td>1</td>\n",
       "      <td>0</td>\n",
       "      <td>0</td>\n",
       "    </tr>\n",
       "  </tbody>\n",
       "</table>\n",
       "</div>"
      ],
      "text/plain": [
       "   credit.policy             purpose  int.rate  installment  log.annual.inc  \\\n",
       "0              1  debt_consolidation    0.1189       829.10       11.350407   \n",
       "1              1         credit_card    0.1071       228.22       11.082143   \n",
       "2              1  debt_consolidation    0.1357       366.86       10.373491   \n",
       "3              1  debt_consolidation    0.1008       162.34       11.350407   \n",
       "4              1         credit_card    0.1426       102.92       11.299732   \n",
       "\n",
       "     dti  fico  days.with.cr.line  revol.bal  revol.util  inq.last.6mths  \\\n",
       "0  19.48   737        5639.958333      28854        52.1               0   \n",
       "1  14.29   707        2760.000000      33623        76.7               0   \n",
       "2  11.63   682        4710.000000       3511        25.6               1   \n",
       "3   8.10   712        2699.958333      33667        73.2               1   \n",
       "4  14.97   667        4066.000000       4740        39.5               0   \n",
       "\n",
       "   delinq.2yrs  pub.rec  not.fully.paid  \n",
       "0            0        0               0  \n",
       "1            0        0               0  \n",
       "2            0        0               0  \n",
       "3            0        0               0  \n",
       "4            1        0               0  "
      ]
     },
     "execution_count": 2,
     "metadata": {},
     "output_type": "execute_result"
    }
   ],
   "source": [
    "## https://www.kaggle.com/datasets/itssuru/loan-data\n",
    "df = pd.read_csv('loan_data.csv')\n",
    "df.head()"
   ]
  },
  {
   "cell_type": "code",
   "execution_count": 3,
   "metadata": {},
   "outputs": [],
   "source": [
    "#Rename target variable\n",
    "df.rename(columns = {'not.fully.paid':'target'}, inplace = True)"
   ]
  },
  {
   "cell_type": "markdown",
   "metadata": {},
   "source": [
    "### Check for missing data"
   ]
  },
  {
   "cell_type": "code",
   "execution_count": 4,
   "metadata": {},
   "outputs": [
    {
     "name": "stdout",
     "output_type": "stream",
     "text": [
      "                   percent_missing\n",
      "credit.policy                  0.0\n",
      "purpose                        0.0\n",
      "int.rate                       0.0\n",
      "installment                    0.0\n",
      "log.annual.inc                 0.0\n",
      "dti                            0.0\n",
      "fico                           0.0\n",
      "days.with.cr.line              0.0\n",
      "revol.bal                      0.0\n",
      "revol.util                     0.0\n",
      "inq.last.6mths                 0.0\n",
      "delinq.2yrs                    0.0\n",
      "pub.rec                        0.0\n",
      "target                         0.0\n"
     ]
    }
   ],
   "source": [
    "#Check percentage of missing values in each column\n",
    "percent_missing = df.isnull().sum() * 100 / len(df)\n",
    "missing_value_df = pd.DataFrame({'percent_missing': percent_missing})\n",
    "\n",
    "print(missing_value_df)"
   ]
  },
  {
   "cell_type": "code",
   "execution_count": 5,
   "metadata": {},
   "outputs": [
    {
     "data": {
      "text/plain": [
       "(9578, 14)"
      ]
     },
     "execution_count": 5,
     "metadata": {},
     "output_type": "execute_result"
    }
   ],
   "source": [
    "df.shape"
   ]
  },
  {
   "cell_type": "markdown",
   "metadata": {},
   "source": [
    "There are no missing values in this dataset so there is no need to impute anything."
   ]
  },
  {
   "cell_type": "markdown",
   "metadata": {},
   "source": [
    "### Add new features"
   ]
  },
  {
   "cell_type": "code",
   "execution_count": 6,
   "metadata": {
    "scrolled": true
   },
   "outputs": [],
   "source": [
    "# Add new features\n",
    "df['revol.bal.zero'] = list(map(lambda x: 1 if x==0 else 0, df['revol.bal']))\n",
    "df['revol.util.zero'] = list(map(lambda x: 1 if x==0 else 0, df['revol.util']))"
   ]
  },
  {
   "cell_type": "markdown",
   "metadata": {},
   "source": [
    "During the data exploration process these two new features were considered and this is the easiest place to add them."
   ]
  },
  {
   "cell_type": "markdown",
   "metadata": {},
   "source": [
    "### Split off final testing data\n",
    "Split off 20% of data as test data. This percentage is mostly arbitrary, I wanted to keep at least 5000 data points in the training and there's going to be another percentage split off for validation during the training process, so splitting off 20% twices leaves 9578*.8*.8 = 6130 data points for training."
   ]
  },
  {
   "cell_type": "code",
   "execution_count": 7,
   "metadata": {},
   "outputs": [],
   "source": [
    "#Separate target from other columns\n",
    "X = df.drop(['target'], axis = 1)\n",
    "y = df['target']\n",
    "\n",
    " ### Get train & test data\n",
    "X_train, X_final_test, y_train, y_final_test = train_test_split(X, y, test_size=0.2, random_state=0, stratify = y)"
   ]
  },
  {
   "cell_type": "code",
   "execution_count": 8,
   "metadata": {},
   "outputs": [],
   "source": [
    "# merge X-train and y_train back into a single dataframe\n",
    "df = pd.concat([X_train, y_train], axis=1)"
   ]
  },
  {
   "cell_type": "markdown",
   "metadata": {},
   "source": [
    "## Data Exploration"
   ]
  },
  {
   "cell_type": "code",
   "execution_count": 9,
   "metadata": {
    "scrolled": false
   },
   "outputs": [
    {
     "data": {
      "text/plain": [
       "0    83.998956\n",
       "1    16.001044\n",
       "Name: target, dtype: float64"
      ]
     },
     "execution_count": 9,
     "metadata": {},
     "output_type": "execute_result"
    }
   ],
   "source": [
    "#Check the balance of the data with respect to the target variable\n",
    "df['target'].value_counts()/len(df)*100"
   ]
  },
  {
   "cell_type": "markdown",
   "metadata": {},
   "source": [
    "This data set is unbalanced. It has 5 times as many data points with target = 0 compared to target = 1. Model trained on this data will tend to better at correcting identifying the overrepresented class than the underrepresented class. Logistics Regression has an option to counteract this. Tree based models might be able to handle this without doing anything special, but the unbalanced nature of the data set is something to keep in mind when training and evaulating models."
   ]
  },
  {
   "cell_type": "code",
   "execution_count": 10,
   "metadata": {
    "scrolled": true
   },
   "outputs": [
    {
     "name": "stdout",
     "output_type": "stream",
     "text": [
      "<class 'pandas.core.frame.DataFrame'>\n",
      "Int64Index: 7662 entries, 3847 to 5282\n",
      "Data columns (total 16 columns):\n",
      " #   Column             Non-Null Count  Dtype  \n",
      "---  ------             --------------  -----  \n",
      " 0   credit.policy      7662 non-null   int64  \n",
      " 1   purpose            7662 non-null   object \n",
      " 2   int.rate           7662 non-null   float64\n",
      " 3   installment        7662 non-null   float64\n",
      " 4   log.annual.inc     7662 non-null   float64\n",
      " 5   dti                7662 non-null   float64\n",
      " 6   fico               7662 non-null   int64  \n",
      " 7   days.with.cr.line  7662 non-null   float64\n",
      " 8   revol.bal          7662 non-null   int64  \n",
      " 9   revol.util         7662 non-null   float64\n",
      " 10  inq.last.6mths     7662 non-null   int64  \n",
      " 11  delinq.2yrs        7662 non-null   int64  \n",
      " 12  pub.rec            7662 non-null   int64  \n",
      " 13  revol.bal.zero     7662 non-null   int64  \n",
      " 14  revol.util.zero    7662 non-null   int64  \n",
      " 15  target             7662 non-null   int64  \n",
      "dtypes: float64(6), int64(9), object(1)\n",
      "memory usage: 1017.6+ KB\n"
     ]
    }
   ],
   "source": [
    "#Show data type and number of non-null values of each column \n",
    "df.info()"
   ]
  },
  {
   "cell_type": "markdown",
   "metadata": {},
   "source": [
    "The categorical features for this data set are credit.policy, purpose, and not.fully.paid; the last of which is the target variable. All of the rest are numerical"
   ]
  },
  {
   "cell_type": "code",
   "execution_count": 11,
   "metadata": {},
   "outputs": [
    {
     "data": {
      "text/html": [
       "<div>\n",
       "<style scoped>\n",
       "    .dataframe tbody tr th:only-of-type {\n",
       "        vertical-align: middle;\n",
       "    }\n",
       "\n",
       "    .dataframe tbody tr th {\n",
       "        vertical-align: top;\n",
       "    }\n",
       "\n",
       "    .dataframe thead th {\n",
       "        text-align: right;\n",
       "    }\n",
       "</style>\n",
       "<table border=\"1\" class=\"dataframe\">\n",
       "  <thead>\n",
       "    <tr style=\"text-align: right;\">\n",
       "      <th></th>\n",
       "      <th>credit.policy</th>\n",
       "      <th>int.rate</th>\n",
       "      <th>installment</th>\n",
       "      <th>log.annual.inc</th>\n",
       "      <th>dti</th>\n",
       "      <th>fico</th>\n",
       "      <th>days.with.cr.line</th>\n",
       "      <th>revol.bal</th>\n",
       "      <th>revol.util</th>\n",
       "      <th>inq.last.6mths</th>\n",
       "      <th>delinq.2yrs</th>\n",
       "      <th>pub.rec</th>\n",
       "      <th>revol.bal.zero</th>\n",
       "      <th>revol.util.zero</th>\n",
       "      <th>target</th>\n",
       "    </tr>\n",
       "  </thead>\n",
       "  <tbody>\n",
       "    <tr>\n",
       "      <th>credit.policy</th>\n",
       "      <td>1.000000</td>\n",
       "      <td>-0.297422</td>\n",
       "      <td>0.058252</td>\n",
       "      <td>0.030376</td>\n",
       "      <td>-0.090400</td>\n",
       "      <td>0.345343</td>\n",
       "      <td>0.101304</td>\n",
       "      <td>-0.180165</td>\n",
       "      <td>-0.092133</td>\n",
       "      <td>-0.538911</td>\n",
       "      <td>-0.069880</td>\n",
       "      <td>-0.063913</td>\n",
       "      <td>-0.057394</td>\n",
       "      <td>-0.024605</td>\n",
       "      <td>-0.156793</td>\n",
       "    </tr>\n",
       "    <tr>\n",
       "      <th>int.rate</th>\n",
       "      <td>-0.297422</td>\n",
       "      <td>1.000000</td>\n",
       "      <td>0.278654</td>\n",
       "      <td>0.059140</td>\n",
       "      <td>0.220777</td>\n",
       "      <td>-0.713877</td>\n",
       "      <td>-0.126712</td>\n",
       "      <td>0.085832</td>\n",
       "      <td>0.458390</td>\n",
       "      <td>0.208554</td>\n",
       "      <td>0.159138</td>\n",
       "      <td>0.093899</td>\n",
       "      <td>-0.028008</td>\n",
       "      <td>-0.028694</td>\n",
       "      <td>0.163138</td>\n",
       "    </tr>\n",
       "    <tr>\n",
       "      <th>installment</th>\n",
       "      <td>0.058252</td>\n",
       "      <td>0.278654</td>\n",
       "      <td>1.000000</td>\n",
       "      <td>0.447444</td>\n",
       "      <td>0.051030</td>\n",
       "      <td>0.085743</td>\n",
       "      <td>0.181382</td>\n",
       "      <td>0.230928</td>\n",
       "      <td>0.087377</td>\n",
       "      <td>-0.009066</td>\n",
       "      <td>-0.007004</td>\n",
       "      <td>-0.031168</td>\n",
       "      <td>-0.073582</td>\n",
       "      <td>-0.033781</td>\n",
       "      <td>0.050670</td>\n",
       "    </tr>\n",
       "    <tr>\n",
       "      <th>log.annual.inc</th>\n",
       "      <td>0.030376</td>\n",
       "      <td>0.059140</td>\n",
       "      <td>0.447444</td>\n",
       "      <td>1.000000</td>\n",
       "      <td>-0.054313</td>\n",
       "      <td>0.116542</td>\n",
       "      <td>0.333853</td>\n",
       "      <td>0.375776</td>\n",
       "      <td>0.061119</td>\n",
       "      <td>0.032993</td>\n",
       "      <td>0.028250</td>\n",
       "      <td>0.023329</td>\n",
       "      <td>-0.106792</td>\n",
       "      <td>-0.060365</td>\n",
       "      <td>-0.037256</td>\n",
       "    </tr>\n",
       "    <tr>\n",
       "      <th>dti</th>\n",
       "      <td>-0.090400</td>\n",
       "      <td>0.220777</td>\n",
       "      <td>0.051030</td>\n",
       "      <td>-0.054313</td>\n",
       "      <td>1.000000</td>\n",
       "      <td>-0.238705</td>\n",
       "      <td>0.060288</td>\n",
       "      <td>0.189678</td>\n",
       "      <td>0.337239</td>\n",
       "      <td>0.034142</td>\n",
       "      <td>-0.019232</td>\n",
       "      <td>0.006709</td>\n",
       "      <td>-0.101717</td>\n",
       "      <td>-0.104354</td>\n",
       "      <td>0.033989</td>\n",
       "    </tr>\n",
       "    <tr>\n",
       "      <th>fico</th>\n",
       "      <td>0.345343</td>\n",
       "      <td>-0.713877</td>\n",
       "      <td>0.085743</td>\n",
       "      <td>0.116542</td>\n",
       "      <td>-0.238705</td>\n",
       "      <td>1.000000</td>\n",
       "      <td>0.271950</td>\n",
       "      <td>-0.008651</td>\n",
       "      <td>-0.536222</td>\n",
       "      <td>-0.187213</td>\n",
       "      <td>-0.215759</td>\n",
       "      <td>-0.148087</td>\n",
       "      <td>0.044000</td>\n",
       "      <td>0.076044</td>\n",
       "      <td>-0.148165</td>\n",
       "    </tr>\n",
       "    <tr>\n",
       "      <th>days.with.cr.line</th>\n",
       "      <td>0.101304</td>\n",
       "      <td>-0.126712</td>\n",
       "      <td>0.181382</td>\n",
       "      <td>0.333853</td>\n",
       "      <td>0.060288</td>\n",
       "      <td>0.271950</td>\n",
       "      <td>1.000000</td>\n",
       "      <td>0.237025</td>\n",
       "      <td>-0.029848</td>\n",
       "      <td>-0.045757</td>\n",
       "      <td>0.078356</td>\n",
       "      <td>0.065612</td>\n",
       "      <td>-0.059229</td>\n",
       "      <td>-0.038717</td>\n",
       "      <td>-0.030078</td>\n",
       "    </tr>\n",
       "    <tr>\n",
       "      <th>revol.bal</th>\n",
       "      <td>-0.180165</td>\n",
       "      <td>0.085832</td>\n",
       "      <td>0.230928</td>\n",
       "      <td>0.375776</td>\n",
       "      <td>0.189678</td>\n",
       "      <td>-0.008651</td>\n",
       "      <td>0.237025</td>\n",
       "      <td>1.000000</td>\n",
       "      <td>0.204295</td>\n",
       "      <td>0.015916</td>\n",
       "      <td>-0.032391</td>\n",
       "      <td>-0.025510</td>\n",
       "      <td>-0.095999</td>\n",
       "      <td>-0.053839</td>\n",
       "      <td>0.054865</td>\n",
       "    </tr>\n",
       "    <tr>\n",
       "      <th>revol.util</th>\n",
       "      <td>-0.092133</td>\n",
       "      <td>0.458390</td>\n",
       "      <td>0.087377</td>\n",
       "      <td>0.061119</td>\n",
       "      <td>0.337239</td>\n",
       "      <td>-0.536222</td>\n",
       "      <td>-0.029848</td>\n",
       "      <td>0.204295</td>\n",
       "      <td>1.000000</td>\n",
       "      <td>-0.016625</td>\n",
       "      <td>-0.040383</td>\n",
       "      <td>0.067825</td>\n",
       "      <td>-0.255328</td>\n",
       "      <td>-0.288738</td>\n",
       "      <td>0.077964</td>\n",
       "    </tr>\n",
       "    <tr>\n",
       "      <th>inq.last.6mths</th>\n",
       "      <td>-0.538911</td>\n",
       "      <td>0.208554</td>\n",
       "      <td>-0.009066</td>\n",
       "      <td>0.032993</td>\n",
       "      <td>0.034142</td>\n",
       "      <td>-0.187213</td>\n",
       "      <td>-0.045757</td>\n",
       "      <td>0.015916</td>\n",
       "      <td>-0.016625</td>\n",
       "      <td>1.000000</td>\n",
       "      <td>0.015914</td>\n",
       "      <td>0.080382</td>\n",
       "      <td>0.029760</td>\n",
       "      <td>0.017799</td>\n",
       "      <td>0.149851</td>\n",
       "    </tr>\n",
       "    <tr>\n",
       "      <th>delinq.2yrs</th>\n",
       "      <td>-0.069880</td>\n",
       "      <td>0.159138</td>\n",
       "      <td>-0.007004</td>\n",
       "      <td>0.028250</td>\n",
       "      <td>-0.019232</td>\n",
       "      <td>-0.215759</td>\n",
       "      <td>0.078356</td>\n",
       "      <td>-0.032391</td>\n",
       "      <td>-0.040383</td>\n",
       "      <td>0.015914</td>\n",
       "      <td>1.000000</td>\n",
       "      <td>0.008093</td>\n",
       "      <td>0.031035</td>\n",
       "      <td>0.028913</td>\n",
       "      <td>0.021311</td>\n",
       "    </tr>\n",
       "    <tr>\n",
       "      <th>pub.rec</th>\n",
       "      <td>-0.063913</td>\n",
       "      <td>0.093899</td>\n",
       "      <td>-0.031168</td>\n",
       "      <td>0.023329</td>\n",
       "      <td>0.006709</td>\n",
       "      <td>-0.148087</td>\n",
       "      <td>0.065612</td>\n",
       "      <td>-0.025510</td>\n",
       "      <td>0.067825</td>\n",
       "      <td>0.080382</td>\n",
       "      <td>0.008093</td>\n",
       "      <td>1.000000</td>\n",
       "      <td>-0.016614</td>\n",
       "      <td>-0.016323</td>\n",
       "      <td>0.050681</td>\n",
       "    </tr>\n",
       "    <tr>\n",
       "      <th>revol.bal.zero</th>\n",
       "      <td>-0.057394</td>\n",
       "      <td>-0.028008</td>\n",
       "      <td>-0.073582</td>\n",
       "      <td>-0.106792</td>\n",
       "      <td>-0.101717</td>\n",
       "      <td>0.044000</td>\n",
       "      <td>-0.059229</td>\n",
       "      <td>-0.095999</td>\n",
       "      <td>-0.255328</td>\n",
       "      <td>0.029760</td>\n",
       "      <td>0.031035</td>\n",
       "      <td>-0.016614</td>\n",
       "      <td>1.000000</td>\n",
       "      <td>0.814784</td>\n",
       "      <td>0.006353</td>\n",
       "    </tr>\n",
       "    <tr>\n",
       "      <th>revol.util.zero</th>\n",
       "      <td>-0.024605</td>\n",
       "      <td>-0.028694</td>\n",
       "      <td>-0.033781</td>\n",
       "      <td>-0.060365</td>\n",
       "      <td>-0.104354</td>\n",
       "      <td>0.076044</td>\n",
       "      <td>-0.038717</td>\n",
       "      <td>-0.053839</td>\n",
       "      <td>-0.288738</td>\n",
       "      <td>0.017799</td>\n",
       "      <td>0.028913</td>\n",
       "      <td>-0.016323</td>\n",
       "      <td>0.814784</td>\n",
       "      <td>1.000000</td>\n",
       "      <td>0.007695</td>\n",
       "    </tr>\n",
       "    <tr>\n",
       "      <th>target</th>\n",
       "      <td>-0.156793</td>\n",
       "      <td>0.163138</td>\n",
       "      <td>0.050670</td>\n",
       "      <td>-0.037256</td>\n",
       "      <td>0.033989</td>\n",
       "      <td>-0.148165</td>\n",
       "      <td>-0.030078</td>\n",
       "      <td>0.054865</td>\n",
       "      <td>0.077964</td>\n",
       "      <td>0.149851</td>\n",
       "      <td>0.021311</td>\n",
       "      <td>0.050681</td>\n",
       "      <td>0.006353</td>\n",
       "      <td>0.007695</td>\n",
       "      <td>1.000000</td>\n",
       "    </tr>\n",
       "  </tbody>\n",
       "</table>\n",
       "</div>"
      ],
      "text/plain": [
       "                   credit.policy  int.rate  installment  log.annual.inc  \\\n",
       "credit.policy           1.000000 -0.297422     0.058252        0.030376   \n",
       "int.rate               -0.297422  1.000000     0.278654        0.059140   \n",
       "installment             0.058252  0.278654     1.000000        0.447444   \n",
       "log.annual.inc          0.030376  0.059140     0.447444        1.000000   \n",
       "dti                    -0.090400  0.220777     0.051030       -0.054313   \n",
       "fico                    0.345343 -0.713877     0.085743        0.116542   \n",
       "days.with.cr.line       0.101304 -0.126712     0.181382        0.333853   \n",
       "revol.bal              -0.180165  0.085832     0.230928        0.375776   \n",
       "revol.util             -0.092133  0.458390     0.087377        0.061119   \n",
       "inq.last.6mths         -0.538911  0.208554    -0.009066        0.032993   \n",
       "delinq.2yrs            -0.069880  0.159138    -0.007004        0.028250   \n",
       "pub.rec                -0.063913  0.093899    -0.031168        0.023329   \n",
       "revol.bal.zero         -0.057394 -0.028008    -0.073582       -0.106792   \n",
       "revol.util.zero        -0.024605 -0.028694    -0.033781       -0.060365   \n",
       "target                 -0.156793  0.163138     0.050670       -0.037256   \n",
       "\n",
       "                        dti      fico  days.with.cr.line  revol.bal  \\\n",
       "credit.policy     -0.090400  0.345343           0.101304  -0.180165   \n",
       "int.rate           0.220777 -0.713877          -0.126712   0.085832   \n",
       "installment        0.051030  0.085743           0.181382   0.230928   \n",
       "log.annual.inc    -0.054313  0.116542           0.333853   0.375776   \n",
       "dti                1.000000 -0.238705           0.060288   0.189678   \n",
       "fico              -0.238705  1.000000           0.271950  -0.008651   \n",
       "days.with.cr.line  0.060288  0.271950           1.000000   0.237025   \n",
       "revol.bal          0.189678 -0.008651           0.237025   1.000000   \n",
       "revol.util         0.337239 -0.536222          -0.029848   0.204295   \n",
       "inq.last.6mths     0.034142 -0.187213          -0.045757   0.015916   \n",
       "delinq.2yrs       -0.019232 -0.215759           0.078356  -0.032391   \n",
       "pub.rec            0.006709 -0.148087           0.065612  -0.025510   \n",
       "revol.bal.zero    -0.101717  0.044000          -0.059229  -0.095999   \n",
       "revol.util.zero   -0.104354  0.076044          -0.038717  -0.053839   \n",
       "target             0.033989 -0.148165          -0.030078   0.054865   \n",
       "\n",
       "                   revol.util  inq.last.6mths  delinq.2yrs   pub.rec  \\\n",
       "credit.policy       -0.092133       -0.538911    -0.069880 -0.063913   \n",
       "int.rate             0.458390        0.208554     0.159138  0.093899   \n",
       "installment          0.087377       -0.009066    -0.007004 -0.031168   \n",
       "log.annual.inc       0.061119        0.032993     0.028250  0.023329   \n",
       "dti                  0.337239        0.034142    -0.019232  0.006709   \n",
       "fico                -0.536222       -0.187213    -0.215759 -0.148087   \n",
       "days.with.cr.line   -0.029848       -0.045757     0.078356  0.065612   \n",
       "revol.bal            0.204295        0.015916    -0.032391 -0.025510   \n",
       "revol.util           1.000000       -0.016625    -0.040383  0.067825   \n",
       "inq.last.6mths      -0.016625        1.000000     0.015914  0.080382   \n",
       "delinq.2yrs         -0.040383        0.015914     1.000000  0.008093   \n",
       "pub.rec              0.067825        0.080382     0.008093  1.000000   \n",
       "revol.bal.zero      -0.255328        0.029760     0.031035 -0.016614   \n",
       "revol.util.zero     -0.288738        0.017799     0.028913 -0.016323   \n",
       "target               0.077964        0.149851     0.021311  0.050681   \n",
       "\n",
       "                   revol.bal.zero  revol.util.zero    target  \n",
       "credit.policy           -0.057394        -0.024605 -0.156793  \n",
       "int.rate                -0.028008        -0.028694  0.163138  \n",
       "installment             -0.073582        -0.033781  0.050670  \n",
       "log.annual.inc          -0.106792        -0.060365 -0.037256  \n",
       "dti                     -0.101717        -0.104354  0.033989  \n",
       "fico                     0.044000         0.076044 -0.148165  \n",
       "days.with.cr.line       -0.059229        -0.038717 -0.030078  \n",
       "revol.bal               -0.095999        -0.053839  0.054865  \n",
       "revol.util              -0.255328        -0.288738  0.077964  \n",
       "inq.last.6mths           0.029760         0.017799  0.149851  \n",
       "delinq.2yrs              0.031035         0.028913  0.021311  \n",
       "pub.rec                 -0.016614        -0.016323  0.050681  \n",
       "revol.bal.zero           1.000000         0.814784  0.006353  \n",
       "revol.util.zero          0.814784         1.000000  0.007695  \n",
       "target                   0.006353         0.007695  1.000000  "
      ]
     },
     "execution_count": 11,
     "metadata": {},
     "output_type": "execute_result"
    }
   ],
   "source": [
    "df.corr()"
   ]
  },
  {
   "cell_type": "markdown",
   "metadata": {},
   "source": [
    "## Plots\n",
    "For categorical features, plots showing the probably that the target variable equals 1 for each possible value of that feature will be shown.\n",
    "\n",
    "For numericals features, histograms of the feature along with box plots of the feature separated by value of the target variable will be shown. If the feature does not follow a normal distribution, a power transform will be used to attempt to make it normal.\n",
    "\n",
    "This information will be used to decided which features will be good predictors and if any transformation are necessary."
   ]
  },
  {
   "cell_type": "code",
   "execution_count": 12,
   "metadata": {
    "scrolled": true
   },
   "outputs": [
    {
     "data": {
      "text/plain": [
       "<AxesSubplot:xlabel='credit.policy'>"
      ]
     },
     "execution_count": 12,
     "metadata": {},
     "output_type": "execute_result"
    },
    {
     "data": {
      "image/png": "[encoded data removed]",
      "text/plain": [
       "<Figure size 432x288 with 1 Axes>"
      ]
     },
     "metadata": {
      "needs_background": "light"
     },
     "output_type": "display_data"
    }
   ],
   "source": [
    "#Bar plot of percentage of data that has 'target' = 1 separated by value of 'credit.policy'\n",
    "credit_policy_percents = pd.pivot_table(df, index = ['credit.policy'], values = 'target' , aggfunc =\n",
    "{'target': np.mean})\n",
    "\n",
    "credit_policy_percents.plot(kind = 'bar')"
   ]
  },
  {
   "cell_type": "markdown",
   "metadata": {},
   "source": [
    "The target attribute is more likely to equal one when credit.policy is zero than when it is one. Since these two probablities are different credit.policy is a good predictor."
   ]
  },
  {
   "cell_type": "code",
   "execution_count": 13,
   "metadata": {
    "scrolled": true
   },
   "outputs": [
    {
     "data": {
      "text/plain": [
       "<AxesSubplot:xlabel='purpose'>"
      ]
     },
     "execution_count": 13,
     "metadata": {},
     "output_type": "execute_result"
    },
    {
     "data": {
      "image/png": "[encoded data removed]",
      "text/plain": [
       "<Figure size 432x288 with 1 Axes>"
      ]
     },
     "metadata": {
      "needs_background": "light"
     },
     "output_type": "display_data"
    }
   ],
   "source": [
    "#Bar plot of percentage of data that has 'target' = 1 separated by value of 'purpose'\n",
    "purpose_percents = pd.pivot_table(df, index = ['purpose'], values = 'target' , aggfunc =\n",
    "{'target': np.mean})\n",
    "\n",
    "purpose_percents.plot(kind = 'bar')"
   ]
  },
  {
   "cell_type": "markdown",
   "metadata": {},
   "source": [
    "The probability of the target attribute equaling one is dependant on the value of purpose, therefore, purpose is a good predictor."
   ]
  },
  {
   "cell_type": "code",
   "execution_count": 14,
   "metadata": {
    "scrolled": false
   },
   "outputs": [
    {
     "data": {
      "text/plain": [
       "<AxesSubplot:xlabel='int.rate', ylabel='Count'>"
      ]
     },
     "execution_count": 14,
     "metadata": {},
     "output_type": "execute_result"
    },
    {
     "data": {
      "image/png": "[encoded data removed]",
      "text/plain": [
       "<Figure size 432x288 with 1 Axes>"
      ]
     },
     "metadata": {
      "needs_background": "light"
     },
     "output_type": "display_data"
    }
   ],
   "source": [
    "# Histgram of int.rate\n",
    "sns.histplot(df['int.rate'])"
   ]
  },
  {
   "cell_type": "markdown",
   "metadata": {},
   "source": [
    "This looks pretty normal, I'll do a normality test on this attribute and transformed versions of it to see if any are normal."
   ]
  },
  {
   "cell_type": "code",
   "execution_count": 15,
   "metadata": {},
   "outputs": [
    {
     "name": "stdout",
     "output_type": "stream",
     "text": [
      "9.071671637320342e-12\n",
      "[1.6741395e-13]\n",
      "[3.77860697e-14]\n"
     ]
    }
   ],
   "source": [
    "variable = 'int.rate'\n",
    "k2, p = stats.normaltest(df[variable])\n",
    "print(p)\n",
    "k2, p = stats.normaltest(power_transform(df[[variable]], method='box-cox'))\n",
    "print(p)\n",
    "k2, p = stats.normaltest(power_transform(df[[variable]], method='yeo-johnson'))\n",
    "print(p)"
   ]
  },
  {
   "cell_type": "markdown",
   "metadata": {},
   "source": [
    "p < .05 for all three so the null hypothis should be rejected in all three cases. The null hypothesis is this situtation is that the data comes from a normal distribution so rejecting it means that none of these are normally distributed.\n",
    "\n",
    "There might be a different transform that makes this attribute normal, but I'll leave this untransformed."
   ]
  },
  {
   "cell_type": "code",
   "execution_count": 16,
   "metadata": {
    "scrolled": false
   },
   "outputs": [
    {
     "data": {
      "text/plain": [
       "<AxesSubplot:xlabel='target', ylabel='int.rate'>"
      ]
     },
     "execution_count": 16,
     "metadata": {},
     "output_type": "execute_result"
    },
    {
     "data": {
      "image/png": "[encoded data removed]",
      "text/plain": [
       "<Figure size 432x288 with 1 Axes>"
      ]
     },
     "metadata": {
      "needs_background": "light"
     },
     "output_type": "display_data"
    }
   ],
   "source": [
    "# Box plots of int.rate separated by value of target\n",
    "c_palette = {0:'lightblue', 1:'orange'}\n",
    "sns.boxplot(x='target', y='int.rate', data=df, orient='v', palette=c_palette)"
   ]
  },
  {
   "cell_type": "markdown",
   "metadata": {},
   "source": [
    "The distribution of int.rate is slightly different depending on the value of the target variable. The distribution shifts up slightly when the target equals one, so int.rate is a good predictor."
   ]
  },
  {
   "cell_type": "code",
   "execution_count": 17,
   "metadata": {
    "scrolled": false
   },
   "outputs": [
    {
     "data": {
      "text/plain": [
       "<AxesSubplot:xlabel='installment', ylabel='Count'>"
      ]
     },
     "execution_count": 17,
     "metadata": {},
     "output_type": "execute_result"
    },
    {
     "data": {
      "image/png": "[encoded data removed]",
      "text/plain": [
       "<Figure size 432x288 with 1 Axes>"
      ]
     },
     "metadata": {
      "needs_background": "light"
     },
     "output_type": "display_data"
    }
   ],
   "source": [
    "# Histgram of installment\n",
    "sns.histplot(df['installment'])"
   ]
  },
  {
   "cell_type": "markdown",
   "metadata": {},
   "source": [
    "This is skewed to the right. I'll do a normality test on this attribute and transformed versions of it to see if any are normal."
   ]
  },
  {
   "cell_type": "code",
   "execution_count": 18,
   "metadata": {},
   "outputs": [
    {
     "name": "stdout",
     "output_type": "stream",
     "text": [
      "4.0866731344576077e-178\n",
      "[1.35221881e-37]\n",
      "[2.53802815e-38]\n"
     ]
    }
   ],
   "source": [
    "variable = 'installment'\n",
    "k2, p = stats.normaltest(df[variable])\n",
    "print(p)\n",
    "k2, p = stats.normaltest(power_transform(df[[variable]], method='box-cox'))\n",
    "print(p)\n",
    "k2, p = stats.normaltest(power_transform(df[[variable]], method='yeo-johnson'))\n",
    "print(p)"
   ]
  },
  {
   "cell_type": "markdown",
   "metadata": {},
   "source": [
    "Again p < .05 for all three so the null hypothis should be rejected in all three cases, so none of these are normally distributed."
   ]
  },
  {
   "cell_type": "code",
   "execution_count": 19,
   "metadata": {
    "scrolled": true
   },
   "outputs": [
    {
     "data": {
      "text/plain": [
       "<AxesSubplot:ylabel='Count'>"
      ]
     },
     "execution_count": 19,
     "metadata": {},
     "output_type": "execute_result"
    },
    {
     "data": {
      "image/png": "[encoded data removed]",
      "text/plain": [
       "<Figure size 432x288 with 1 Axes>"
      ]
     },
     "metadata": {
      "needs_background": "light"
     },
     "output_type": "display_data"
    }
   ],
   "source": [
    "# Histgram of power transformed installment\n",
    "sns.histplot(power_transform(df[['installment']], method='box-cox'))"
   ]
  },
  {
   "cell_type": "markdown",
   "metadata": {},
   "source": [
    "The transformed data is at least less skewed than the untransformed version, I'll compare using each version when training the logistics regression later."
   ]
  },
  {
   "cell_type": "code",
   "execution_count": 20,
   "metadata": {
    "scrolled": true
   },
   "outputs": [
    {
     "data": {
      "text/plain": [
       "<AxesSubplot:xlabel='target', ylabel='installment'>"
      ]
     },
     "execution_count": 20,
     "metadata": {},
     "output_type": "execute_result"
    },
    {
     "data": {
      "image/png": "[encoded data removed]",
      "text/plain": [
       "<Figure size 432x288 with 1 Axes>"
      ]
     },
     "metadata": {
      "needs_background": "light"
     },
     "output_type": "display_data"
    }
   ],
   "source": [
    "# Box plots of installment separated by value of target\n",
    "c_palette = {0:'lightblue', 1:'orange'}\n",
    "sns.boxplot(x='target', y='installment', data=df, orient='v', palette=c_palette)"
   ]
  },
  {
   "cell_type": "markdown",
   "metadata": {},
   "source": [
    "The distribution of installment is slightly different depending on the value of the target variable. The distribution shifts up very slightly when the target equals one, so installment is probably a weak predictor."
   ]
  },
  {
   "cell_type": "code",
   "execution_count": 21,
   "metadata": {
    "scrolled": false
   },
   "outputs": [
    {
     "data": {
      "text/plain": [
       "<AxesSubplot:xlabel='log.annual.inc', ylabel='Count'>"
      ]
     },
     "execution_count": 21,
     "metadata": {},
     "output_type": "execute_result"
    },
    {
     "data": {
      "image/png": "[encoded data removed]",
      "text/plain": [
       "<Figure size 432x288 with 1 Axes>"
      ]
     },
     "metadata": {
      "needs_background": "light"
     },
     "output_type": "display_data"
    }
   ],
   "source": [
    "# Histgram of installment\n",
    "sns.histplot(df['log.annual.inc'])"
   ]
  },
  {
   "cell_type": "markdown",
   "metadata": {},
   "source": [
    "This looks pretty normal, I'll do a normality test on this attribute and transformed versions of it to see if any are normal."
   ]
  },
  {
   "cell_type": "code",
   "execution_count": 22,
   "metadata": {},
   "outputs": [
    {
     "name": "stdout",
     "output_type": "stream",
     "text": [
      "1.3942229286007077e-60\n",
      "[6.17329249e-61]\n",
      "[6.67722443e-61]\n"
     ]
    }
   ],
   "source": [
    "variable = 'log.annual.inc'\n",
    "k2, p = stats.normaltest(df[variable])\n",
    "print(p)\n",
    "k2, p = stats.normaltest(power_transform(df[[variable]], method='box-cox'))\n",
    "print(p)\n",
    "k2, p = stats.normaltest(power_transform(df[[variable]], method='yeo-johnson'))\n",
    "print(p)"
   ]
  },
  {
   "cell_type": "markdown",
   "metadata": {},
   "source": [
    "Again p < .05 for all three so the null hypothis should be rejected in all three cases, so none of these are normally distributed. Since this has already been log transformed there doesn't seem to be much point in transforming it again."
   ]
  },
  {
   "cell_type": "code",
   "execution_count": 23,
   "metadata": {},
   "outputs": [
    {
     "data": {
      "text/plain": [
       "<AxesSubplot:xlabel='target', ylabel='log.annual.inc'>"
      ]
     },
     "execution_count": 23,
     "metadata": {},
     "output_type": "execute_result"
    },
    {
     "data": {
      "image/png": "[encoded data removed]",
      "text/plain": [
       "<Figure size 432x288 with 1 Axes>"
      ]
     },
     "metadata": {
      "needs_background": "light"
     },
     "output_type": "display_data"
    }
   ],
   "source": [
    "# Box plots of log.annual.inc separated by value of target\n",
    "c_palette = {0:'lightblue', 1:'orange'}\n",
    "sns.boxplot(x='target', y='log.annual.inc', data=df, orient='v', palette=c_palette)\n"
   ]
  },
  {
   "cell_type": "markdown",
   "metadata": {},
   "source": [
    "The distribution of log.annual.inc is very similar for the two values of the target variable. The distribution seems to have fewer outliers when the target variable equals one, but this might just because the dataset is unbalanced and has fewer total points with the target equal to one. Comparing histograms should make it easier to see any differences."
   ]
  },
  {
   "cell_type": "code",
   "execution_count": 24,
   "metadata": {},
   "outputs": [],
   "source": [
    "df_0 = df[df.target==0]\n",
    "df_1 = df[df.target==1]"
   ]
  },
  {
   "cell_type": "code",
   "execution_count": 25,
   "metadata": {
    "scrolled": true
   },
   "outputs": [
    {
     "data": {
      "text/plain": [
       "<AxesSubplot:xlabel='log.annual.inc', ylabel='Count'>"
      ]
     },
     "execution_count": 25,
     "metadata": {},
     "output_type": "execute_result"
    },
    {
     "data": {
      "image/png": "[encoded data removed]",
      "text/plain": [
       "<Figure size 432x288 with 1 Axes>"
      ]
     },
     "metadata": {
      "needs_background": "light"
     },
     "output_type": "display_data"
    }
   ],
   "source": [
    "# Histgram of log.annual.inc when target = 1\n",
    "sns.histplot(df_1['log.annual.inc'])"
   ]
  },
  {
   "cell_type": "code",
   "execution_count": 26,
   "metadata": {
    "scrolled": true
   },
   "outputs": [
    {
     "data": {
      "text/plain": [
       "<AxesSubplot:xlabel='log.annual.inc', ylabel='Count'>"
      ]
     },
     "execution_count": 26,
     "metadata": {},
     "output_type": "execute_result"
    },
    {
     "data": {
      "image/png": "[encoded data removed]",
      "text/plain": [
       "<Figure size 432x288 with 1 Axes>"
      ]
     },
     "metadata": {
      "needs_background": "light"
     },
     "output_type": "display_data"
    }
   ],
   "source": [
    "# Histgram of log.annual.inc when target = 0\n",
    "sns.histplot(df_0['log.annual.inc'])"
   ]
  },
  {
   "cell_type": "markdown",
   "metadata": {},
   "source": [
    "These two histograms look pretty similar. There are more outliers when the target equals zero, but that's only because there's more data points with the target equal to zero; log.annual.inc is not a good predictor."
   ]
  },
  {
   "cell_type": "code",
   "execution_count": 27,
   "metadata": {
    "scrolled": false
   },
   "outputs": [
    {
     "data": {
      "text/plain": [
       "<AxesSubplot:xlabel='dti', ylabel='Count'>"
      ]
     },
     "execution_count": 27,
     "metadata": {},
     "output_type": "execute_result"
    },
    {
     "data": {
      "image/png": "[encoded data removed]",
      "text/plain": [
       "<Figure size 432x288 with 1 Axes>"
      ]
     },
     "metadata": {
      "needs_background": "light"
     },
     "output_type": "display_data"
    }
   ],
   "source": [
    "# Histgram of dti\n",
    "sns.histplot(df['dti'])"
   ]
  },
  {
   "cell_type": "markdown",
   "metadata": {},
   "source": [
    "This is definitely not normal. I'll do a normality test on the power transform to see if that is normal."
   ]
  },
  {
   "cell_type": "code",
   "execution_count": 28,
   "metadata": {},
   "outputs": [
    {
     "name": "stdout",
     "output_type": "stream",
     "text": [
      "1.730878416840298e-237\n",
      "[5.36972681e-178]\n"
     ]
    }
   ],
   "source": [
    "variable = 'dti'\n",
    "k2, p = stats.normaltest(df[variable])\n",
    "print(p)\n",
    "k2, p = stats.normaltest(power_transform(df[[variable]], method='yeo-johnson'))\n",
    "print(p)"
   ]
  },
  {
   "cell_type": "markdown",
   "metadata": {},
   "source": [
    "p < .05 for both so neither are normally distributed"
   ]
  },
  {
   "cell_type": "code",
   "execution_count": 29,
   "metadata": {
    "scrolled": true
   },
   "outputs": [
    {
     "data": {
      "text/plain": [
       "<AxesSubplot:ylabel='Count'>"
      ]
     },
     "execution_count": 29,
     "metadata": {},
     "output_type": "execute_result"
    },
    {
     "data": {
      "image/png": "[encoded data removed]",
      "text/plain": [
       "<Figure size 432x288 with 1 Axes>"
      ]
     },
     "metadata": {
      "needs_background": "light"
     },
     "output_type": "display_data"
    }
   ],
   "source": [
    "# Histgram of power transformed dti\n",
    "sns.histplot(power_transform(df[['dti']], method='yeo-johnson'))"
   ]
  },
  {
   "cell_type": "markdown",
   "metadata": {},
   "source": [
    "The transformed version looks very similar to the untransformed version so there doesn't seem to be any reason to use this transform."
   ]
  },
  {
   "cell_type": "code",
   "execution_count": 30,
   "metadata": {},
   "outputs": [
    {
     "data": {
      "text/plain": [
       "<AxesSubplot:xlabel='target', ylabel='dti'>"
      ]
     },
     "execution_count": 30,
     "metadata": {},
     "output_type": "execute_result"
    },
    {
     "data": {
      "image/png": "[encoded data removed]",
      "text/plain": [
       "<Figure size 432x288 with 1 Axes>"
      ]
     },
     "metadata": {
      "needs_background": "light"
     },
     "output_type": "display_data"
    }
   ],
   "source": [
    "# Box plots of dti separated by value of target\n",
    "c_palette = {0:'lightblue', 1:'orange'}\n",
    "sns.boxplot(x='target', y='dti', data=df, orient='v', palette=c_palette)"
   ]
  },
  {
   "cell_type": "markdown",
   "metadata": {},
   "source": [
    "The distribution of dti is almost identical for the two values of the target variable; dti is not a good predictor."
   ]
  },
  {
   "cell_type": "code",
   "execution_count": 31,
   "metadata": {
    "scrolled": false
   },
   "outputs": [
    {
     "data": {
      "text/plain": [
       "<AxesSubplot:xlabel='fico', ylabel='Count'>"
      ]
     },
     "execution_count": 31,
     "metadata": {},
     "output_type": "execute_result"
    },
    {
     "data": {
      "image/png": "[encoded data removed]",
      "text/plain": [
       "<Figure size 432x288 with 1 Axes>"
      ]
     },
     "metadata": {
      "needs_background": "light"
     },
     "output_type": "display_data"
    }
   ],
   "source": [
    "# Histgram of dti\n",
    "sns.histplot(df['fico'])"
   ]
  },
  {
   "cell_type": "markdown",
   "metadata": {},
   "source": [
    "This is skewed to the right.  I'll do a normality test on this attribute and transformed versions of it to see if any are normal."
   ]
  },
  {
   "cell_type": "code",
   "execution_count": 32,
   "metadata": {},
   "outputs": [
    {
     "name": "stdout",
     "output_type": "stream",
     "text": [
      "1.763681782237526e-77\n",
      "[1.75500901e-74]\n",
      "[0.]\n"
     ]
    },
    {
     "name": "stderr",
     "output_type": "stream",
     "text": [
      "C:\\Users\\anton\\anaconda3\\lib\\site-packages\\sklearn\\preprocessing\\_data.py:2995: RuntimeWarning: divide by zero encountered in log\n",
      "  loglike = -n_samples / 2 * np.log(x_trans.var())\n"
     ]
    }
   ],
   "source": [
    "variable = 'fico'\n",
    "k2, p = stats.normaltest(df[variable])\n",
    "print(p)\n",
    "k2, p = stats.normaltest(power_transform(df[[variable]], method='box-cox'))\n",
    "print(p)\n",
    "k2, p = stats.normaltest(power_transform(df[[variable]], method='yeo-johnson'))\n",
    "print(p)"
   ]
  },
  {
   "cell_type": "markdown",
   "metadata": {},
   "source": [
    "p < .05 for all three so the null hypothis should be rejected in all three cases, so none of these are normally distributed."
   ]
  },
  {
   "cell_type": "code",
   "execution_count": 33,
   "metadata": {
    "scrolled": true
   },
   "outputs": [
    {
     "data": {
      "text/plain": [
       "<AxesSubplot:ylabel='Count'>"
      ]
     },
     "execution_count": 33,
     "metadata": {},
     "output_type": "execute_result"
    },
    {
     "data": {
      "image/png": "[encoded data removed]",
      "text/plain": [
       "<Figure size 432x288 with 1 Axes>"
      ]
     },
     "metadata": {
      "needs_background": "light"
     },
     "output_type": "display_data"
    }
   ],
   "source": [
    "# Histgram of power transformed fico\n",
    "sns.histplot(power_transform(df[['fico']], method='box-cox'))"
   ]
  },
  {
   "cell_type": "markdown",
   "metadata": {},
   "source": [
    "This looks less skewed, so I'll compare using each version when training the logistics regression later."
   ]
  },
  {
   "cell_type": "code",
   "execution_count": 34,
   "metadata": {
    "scrolled": true
   },
   "outputs": [
    {
     "data": {
      "text/plain": [
       "<AxesSubplot:xlabel='target', ylabel='fico'>"
      ]
     },
     "execution_count": 34,
     "metadata": {},
     "output_type": "execute_result"
    },
    {
     "data": {
      "image/png": "[encoded data removed]",
      "text/plain": [
       "<Figure size 432x288 with 1 Axes>"
      ]
     },
     "metadata": {
      "needs_background": "light"
     },
     "output_type": "display_data"
    }
   ],
   "source": [
    "# Box plots of fico separated by value of target\n",
    "c_palette = {0:'lightblue', 1:'orange'}\n",
    "sns.boxplot(x='target', y='fico', data=df, orient='v', palette=c_palette)"
   ]
  },
  {
   "cell_type": "markdown",
   "metadata": {},
   "source": [
    "The distribution of fico is slightly different depending on the value of the target variable. The distribution shifts down slightly and the variance descreases when the target equals one, so fico is probably a weak predictor."
   ]
  },
  {
   "cell_type": "code",
   "execution_count": 35,
   "metadata": {
    "scrolled": true
   },
   "outputs": [
    {
     "data": {
      "text/plain": [
       "<AxesSubplot:xlabel='days.with.cr.line', ylabel='Count'>"
      ]
     },
     "execution_count": 35,
     "metadata": {},
     "output_type": "execute_result"
    },
    {
     "data": {
      "image/png": "[encoded data removed]",
      "text/plain": [
       "<Figure size 432x288 with 1 Axes>"
      ]
     },
     "metadata": {
      "needs_background": "light"
     },
     "output_type": "display_data"
    }
   ],
   "source": [
    "# Histgram of days.with.cr.line\n",
    "sns.histplot(df['days.with.cr.line'])"
   ]
  },
  {
   "cell_type": "markdown",
   "metadata": {},
   "source": [
    "This is skewed to the right. I'll do a normality test on this attribute and transformed versions of it to see if any are normal."
   ]
  },
  {
   "cell_type": "code",
   "execution_count": 36,
   "metadata": {
    "scrolled": true
   },
   "outputs": [
    {
     "name": "stdout",
     "output_type": "stream",
     "text": [
      "0.0\n",
      "[0.00032252]\n",
      "[0.0003311]\n"
     ]
    }
   ],
   "source": [
    "variable = 'days.with.cr.line'\n",
    "k2, p = stats.normaltest(df[variable])\n",
    "print(p)\n",
    "k2, p = stats.normaltest(power_transform(df[[variable]], method='box-cox'))\n",
    "print(p)\n",
    "k2, p = stats.normaltest(power_transform(df[[variable]], method='yeo-johnson'))\n",
    "print(p)"
   ]
  },
  {
   "cell_type": "markdown",
   "metadata": {},
   "source": [
    "p < .05 for all three so the null hypothis should be rejected in all three cases, so none of these are normally distributed."
   ]
  },
  {
   "cell_type": "code",
   "execution_count": 37,
   "metadata": {
    "scrolled": true
   },
   "outputs": [
    {
     "data": {
      "text/plain": [
       "<AxesSubplot:ylabel='Count'>"
      ]
     },
     "execution_count": 37,
     "metadata": {},
     "output_type": "execute_result"
    },
    {
     "data": {
      "image/png": "[encoded data removed]",
      "text/plain": [
       "<Figure size 432x288 with 1 Axes>"
      ]
     },
     "metadata": {
      "needs_background": "light"
     },
     "output_type": "display_data"
    }
   ],
   "source": [
    "# Histgram of power transformed days.with.cr.line\n",
    "sns.histplot(power_transform(df[['days.with.cr.line']], method='box-cox'))"
   ]
  },
  {
   "cell_type": "markdown",
   "metadata": {},
   "source": [
    "The transformed data is at least less skewed than the untransformed version, I'll compare using each version when training the logistics regression later."
   ]
  },
  {
   "cell_type": "code",
   "execution_count": 38,
   "metadata": {
    "scrolled": false
   },
   "outputs": [
    {
     "data": {
      "text/plain": [
       "<AxesSubplot:xlabel='target', ylabel='days.with.cr.line'>"
      ]
     },
     "execution_count": 38,
     "metadata": {},
     "output_type": "execute_result"
    },
    {
     "data": {
      "image/png": "[encoded data removed]",
      "text/plain": [
       "<Figure size 432x288 with 1 Axes>"
      ]
     },
     "metadata": {
      "needs_background": "light"
     },
     "output_type": "display_data"
    }
   ],
   "source": [
    "# Box plots of fico separated by value of target\n",
    "c_palette = {0:'lightblue', 1:'orange'}\n",
    "sns.boxplot(x='target', y='days.with.cr.line', data=df, orient='v', palette=c_palette)"
   ]
  },
  {
   "cell_type": "markdown",
   "metadata": {},
   "source": [
    "The distribution of days.with.cr.line is very similar for the two values of the target variable. The distribution seems to have fewer outliers when the target variable equals one, but this is probably just because the dataset is unbalanced and has fewer total points with the target equal to one. Comparing histograms should make it easier to see any differences."
   ]
  },
  {
   "cell_type": "code",
   "execution_count": 39,
   "metadata": {},
   "outputs": [
    {
     "data": {
      "text/plain": [
       "<AxesSubplot:xlabel='days.with.cr.line', ylabel='Count'>"
      ]
     },
     "execution_count": 39,
     "metadata": {},
     "output_type": "execute_result"
    },
    {
     "data": {
      "image/png": "[encoded data removed]",
      "text/plain": [
       "<Figure size 432x288 with 1 Axes>"
      ]
     },
     "metadata": {
      "needs_background": "light"
     },
     "output_type": "display_data"
    }
   ],
   "source": [
    "# Histgram of days.with.cr.line when target = 0\n",
    "sns.histplot(df_0['days.with.cr.line'])"
   ]
  },
  {
   "cell_type": "code",
   "execution_count": 40,
   "metadata": {
    "scrolled": false
   },
   "outputs": [
    {
     "data": {
      "text/plain": [
       "<AxesSubplot:xlabel='days.with.cr.line', ylabel='Count'>"
      ]
     },
     "execution_count": 40,
     "metadata": {},
     "output_type": "execute_result"
    },
    {
     "data": {
      "image/png": "[encoded data removed]",
      "text/plain": [
       "<Figure size 432x288 with 1 Axes>"
      ]
     },
     "metadata": {
      "needs_background": "light"
     },
     "output_type": "display_data"
    }
   ],
   "source": [
    "# Histgram of days.with.cr.line when target = 1\n",
    "sns.histplot(df_1['days.with.cr.line'])"
   ]
  },
  {
   "cell_type": "markdown",
   "metadata": {},
   "source": [
    "These two histograms look pretty similar. There are more outliers when the target equals zero, but that's only because there's more data points with the target equal to zero; days.with.cr.line is not a good predictor."
   ]
  },
  {
   "cell_type": "code",
   "execution_count": 41,
   "metadata": {
    "scrolled": true
   },
   "outputs": [
    {
     "data": {
      "text/plain": [
       "<AxesSubplot:xlabel='revol.bal', ylabel='Count'>"
      ]
     },
     "execution_count": 41,
     "metadata": {},
     "output_type": "execute_result"
    },
    {
     "data": {
      "image/png": "[encoded data removed]",
      "text/plain": [
       "<Figure size 432x288 with 1 Axes>"
      ]
     },
     "metadata": {
      "needs_background": "light"
     },
     "output_type": "display_data"
    }
   ],
   "source": [
    "# Histgram of revol.bal\n",
    "sns.histplot(df['revol.bal'])"
   ]
  },
  {
   "cell_type": "markdown",
   "metadata": {},
   "source": [
    "This has some extreme outliers that are making it difficult to the shape of the graph."
   ]
  },
  {
   "cell_type": "code",
   "execution_count": 43,
   "metadata": {
    "scrolled": false
   },
   "outputs": [
    {
     "data": {
      "text/plain": [
       "<AxesSubplot:xlabel='revol.bal', ylabel='Count'>"
      ]
     },
     "execution_count": 43,
     "metadata": {},
     "output_type": "execute_result"
    },
    {
     "data": {
      "image/png": "[encoded data removed]",
      "text/plain": [
       "<Figure size 432x288 with 1 Axes>"
      ]
     },
     "metadata": {
      "needs_background": "light"
     },
     "output_type": "display_data"
    }
   ],
   "source": [
    "# Histgram of revol.bal cutting off some of the extreme values\n",
    "sns.histplot(df['revol.bal'], binrange=(0,50000))"
   ]
  },
  {
   "cell_type": "markdown",
   "metadata": {},
   "source": [
    "This is skewed right, let's look at using a power transform."
   ]
  },
  {
   "cell_type": "code",
   "execution_count": 214,
   "metadata": {
    "scrolled": false
   },
   "outputs": [
    {
     "data": {
      "text/plain": [
       "<AxesSubplot:ylabel='Count'>"
      ]
     },
     "execution_count": 214,
     "metadata": {},
     "output_type": "execute_result"
    },
    {
     "data": {
      "image/png": "[encoded data removed]",
      "text/plain": [
       "<Figure size 432x288 with 1 Axes>"
      ]
     },
     "metadata": {
      "needs_background": "light"
     },
     "output_type": "display_data"
    }
   ],
   "source": [
    "# Histgram of power transformed 'revol.bal'\n",
    "sns.histplot(power_transform(df[['revol.bal']], method='yeo-johnson'))"
   ]
  },
  {
   "cell_type": "markdown",
   "metadata": {},
   "source": [
    "This is looks more like a normal distribution, let's see if removing the zeroes and doing a power transform it results in a normal distribution."
   ]
  },
  {
   "cell_type": "code",
   "execution_count": 45,
   "metadata": {
    "scrolled": true
   },
   "outputs": [
    {
     "name": "stdout",
     "output_type": "stream",
     "text": [
      "5.5463352400717954e-192\n",
      "[5.54633524e-192]\n"
     ]
    },
    {
     "name": "stderr",
     "output_type": "stream",
     "text": [
      "C:\\Users\\anton\\anaconda3\\lib\\site-packages\\sklearn\\preprocessing\\_data.py:2995: RuntimeWarning: divide by zero encountered in log\n",
      "  loglike = -n_samples / 2 * np.log(x_trans.var())\n"
     ]
    }
   ],
   "source": [
    "variable = 'revol.bal.zero'\n",
    "df_no_zeroes = df[df[variable] != 0]\n",
    "k2, p = stats.normaltest(df_no_zeroes[variable])\n",
    "print(p)\n",
    "k2, p = stats.normaltest(power_transform(df_no_zeroes[[variable]], method='yeo-johnson'))\n",
    "print(p)"
   ]
  },
  {
   "cell_type": "markdown",
   "metadata": {},
   "source": [
    "p < .05 for both so the null hypothis should be rejected in both cases, so neither of these are normally distributed.\n",
    "Since the original data is so skewed and has a large number of zeroes, I'll do a power transform on revol.bal add a column that's 1 exactly when revol.bal = 0."
   ]
  },
  {
   "cell_type": "code",
   "execution_count": 46,
   "metadata": {
    "scrolled": true
   },
   "outputs": [
    {
     "data": {
      "text/plain": [
       "<AxesSubplot:xlabel='target', ylabel='revol.bal'>"
      ]
     },
     "execution_count": 46,
     "metadata": {},
     "output_type": "execute_result"
    },
    {
     "data": {
      "image/png": "[encoded data removed]",
      "text/plain": [
       "<Figure size 432x288 with 1 Axes>"
      ]
     },
     "metadata": {
      "needs_background": "light"
     },
     "output_type": "display_data"
    }
   ],
   "source": [
    "# Box plots of revol.bal separated by value of target\n",
    "c_palette = {0:'lightblue', 1:'orange'}\n",
    "sns.boxplot(x='target', y='revol.bal', data=df, orient='v', palette=c_palette)"
   ]
  },
  {
   "cell_type": "markdown",
   "metadata": {},
   "source": [
    "The extreme outliers are making this difficult to see. If some of the largest values are removed it will be easier to see the boxplots"
   ]
  },
  {
   "cell_type": "code",
   "execution_count": 47,
   "metadata": {},
   "outputs": [
    {
     "data": {
      "text/plain": [
       "<AxesSubplot:xlabel='target', ylabel='revol.bal'>"
      ]
     },
     "execution_count": 47,
     "metadata": {},
     "output_type": "execute_result"
    },
    {
     "data": {
      "image/png": "[encoded data removed]",
      "text/plain": [
       "<Figure size 432x288 with 1 Axes>"
      ]
     },
     "metadata": {
      "needs_background": "light"
     },
     "output_type": "display_data"
    }
   ],
   "source": [
    "df_minus_outlier = df[df['revol.bal'] < 50000]\n",
    "c_palette = {0:'lightblue', 1:'orange'}\n",
    "sns.boxplot(x='target', y='revol.bal', data=df_minus_outlier, orient='v', palette=c_palette)"
   ]
  },
  {
   "cell_type": "markdown",
   "metadata": {},
   "source": [
    "These are nearly identical, but the fact that some of the values have been removed changes some of the statistics."
   ]
  },
  {
   "cell_type": "code",
   "execution_count": 48,
   "metadata": {
    "scrolled": true
   },
   "outputs": [
    {
     "data": {
      "text/plain": [
       "count      6436.000000\n",
       "mean      15921.707893\n",
       "std       27461.024378\n",
       "min           0.000000\n",
       "25%        3163.750000\n",
       "50%        8505.500000\n",
       "75%       17755.500000\n",
       "max      602519.000000\n",
       "Name: revol.bal, dtype: float64"
      ]
     },
     "execution_count": 48,
     "metadata": {},
     "output_type": "execute_result"
    }
   ],
   "source": [
    "df_0['revol.bal'].describe()"
   ]
  },
  {
   "cell_type": "code",
   "execution_count": 49,
   "metadata": {},
   "outputs": [
    {
     "data": {
      "text/plain": [
       "count    1.226000e+03\n",
       "mean     2.081178e+04\n",
       "std      5.193227e+04\n",
       "min      0.000000e+00\n",
       "25%      3.385500e+03\n",
       "50%      8.815000e+03\n",
       "75%      1.960825e+04\n",
       "max      1.207359e+06\n",
       "Name: revol.bal, dtype: float64"
      ]
     },
     "execution_count": 49,
     "metadata": {},
     "output_type": "execute_result"
    }
   ],
   "source": [
    "df_1['revol.bal'].describe()"
   ]
  },
  {
   "cell_type": "markdown",
   "metadata": {},
   "source": [
    "The the mean, std, and quartiles are all slightly higher when the target variable is 1. The distribution of revol.bal is pretty similar for both values of the targer variable, expect it has some more extreme values when the target variable is 1; revol.bal is probably a weak predictor."
   ]
  },
  {
   "cell_type": "code",
   "execution_count": 50,
   "metadata": {
    "scrolled": false
   },
   "outputs": [
    {
     "data": {
      "text/plain": [
       "<AxesSubplot:xlabel='revol.util', ylabel='Count'>"
      ]
     },
     "execution_count": 50,
     "metadata": {},
     "output_type": "execute_result"
    },
    {
     "data": {
      "image/png": "[encoded data removed]",
      "text/plain": [
       "<Figure size 432x288 with 1 Axes>"
      ]
     },
     "metadata": {
      "needs_background": "light"
     },
     "output_type": "display_data"
    }
   ],
   "source": [
    "# Histgram of revol.util\n",
    "sns.histplot(df['revol.util'])"
   ]
  },
  {
   "cell_type": "markdown",
   "metadata": {},
   "source": [
    "This looks like a uniform distribution, except for the spike at 0 and a small number of the highest values."
   ]
  },
  {
   "cell_type": "code",
   "execution_count": 51,
   "metadata": {},
   "outputs": [
    {
     "name": "stdout",
     "output_type": "stream",
     "text": [
      "0.0\n",
      "[8.7271242e-286]\n"
     ]
    }
   ],
   "source": [
    "variable = 'revol.util'\n",
    "k2, p = stats.normaltest(df[variable])\n",
    "print(p)\n",
    "k2, p = stats.normaltest(power_transform(df[[variable]], method='yeo-johnson'))\n",
    "print(p)"
   ]
  },
  {
   "cell_type": "markdown",
   "metadata": {},
   "source": [
    "p < .05 so neither the orginal data or the transformed version are normal."
   ]
  },
  {
   "cell_type": "code",
   "execution_count": 52,
   "metadata": {
    "scrolled": false
   },
   "outputs": [
    {
     "data": {
      "text/plain": [
       "<AxesSubplot:xlabel='revol.util', ylabel='Count'>"
      ]
     },
     "execution_count": 52,
     "metadata": {},
     "output_type": "execute_result"
    },
    {
     "data": {
      "image/png": "[encoded data removed]",
      "text/plain": [
       "<Figure size 432x288 with 1 Axes>"
      ]
     },
     "metadata": {
      "needs_background": "light"
     },
     "output_type": "display_data"
    }
   ],
   "source": [
    "df_no_zeroes = df[df['revol.util'] != 0]\n",
    "#Histgram of revol.util with zeroes removed\n",
    "sns.histplot(df_no_zeroes['revol.util'])"
   ]
  },
  {
   "cell_type": "markdown",
   "metadata": {},
   "source": [
    "Since this looks more like a uniform distribution onces the zeroes are removed I'm going to add an extra feature that's 1 exactly when revol.util = 0."
   ]
  },
  {
   "cell_type": "code",
   "execution_count": 53,
   "metadata": {
    "scrolled": true
   },
   "outputs": [
    {
     "data": {
      "text/plain": [
       "<AxesSubplot:xlabel='target', ylabel='revol.util'>"
      ]
     },
     "execution_count": 53,
     "metadata": {},
     "output_type": "execute_result"
    },
    {
     "data": {
      "image/png": "[encoded data removed]",
      "text/plain": [
       "<Figure size 432x288 with 1 Axes>"
      ]
     },
     "metadata": {
      "needs_background": "light"
     },
     "output_type": "display_data"
    }
   ],
   "source": [
    "# Box plots of revol.util separated by value of target\n",
    "c_palette = {0:'lightblue', 1:'orange'}\n",
    "sns.boxplot(x='target', y='revol.util', data=df, orient='v', palette=c_palette)"
   ]
  },
  {
   "cell_type": "markdown",
   "metadata": {},
   "source": [
    "The distribution of revol.util is slightly different depending on the value of the target variable. The median, and 1st and 3rd quartiles increase very slightly when the target equals one, so revol.util is probably a weak predictor."
   ]
  },
  {
   "cell_type": "code",
   "execution_count": 54,
   "metadata": {
    "scrolled": false
   },
   "outputs": [
    {
     "data": {
      "text/plain": [
       "<AxesSubplot:xlabel='inq.last.6mths', ylabel='Count'>"
      ]
     },
     "execution_count": 54,
     "metadata": {},
     "output_type": "execute_result"
    },
    {
     "data": {
      "image/png": "[encoded data removed]",
      "text/plain": [
       "<Figure size 432x288 with 1 Axes>"
      ]
     },
     "metadata": {
      "needs_background": "light"
     },
     "output_type": "display_data"
    }
   ],
   "source": [
    "# Histgram of inq.last.6mths\n",
    "sns.histplot(df['inq.last.6mths'])"
   ]
  },
  {
   "cell_type": "code",
   "execution_count": 55,
   "metadata": {},
   "outputs": [
    {
     "name": "stdout",
     "output_type": "stream",
     "text": [
      "0.0\n",
      "[0.]\n"
     ]
    }
   ],
   "source": [
    "variable = 'inq.last.6mths'\n",
    "k2, p = stats.normaltest(df[variable])\n",
    "print(p)\n",
    "k2, p = stats.normaltest(power_transform(df[[variable]], method='yeo-johnson'))\n",
    "print(p)"
   ]
  },
  {
   "cell_type": "markdown",
   "metadata": {},
   "source": [
    "p < .05 for both so the null hypothis should be rejected in both cases, so neither of these are normally distributed."
   ]
  },
  {
   "cell_type": "code",
   "execution_count": 56,
   "metadata": {
    "scrolled": false
   },
   "outputs": [
    {
     "data": {
      "text/plain": [
       "<AxesSubplot:ylabel='Count'>"
      ]
     },
     "execution_count": 56,
     "metadata": {},
     "output_type": "execute_result"
    },
    {
     "data": {
      "image/png": "[encoded data removed]",
      "text/plain": [
       "<Figure size 432x288 with 1 Axes>"
      ]
     },
     "metadata": {
      "needs_background": "light"
     },
     "output_type": "display_data"
    }
   ],
   "source": [
    "# Histgram of inq.last.6mths\n",
    "sns.histplot(power_transform(df[['inq.last.6mths']], method='yeo-johnson'))"
   ]
  },
  {
   "cell_type": "markdown",
   "metadata": {},
   "source": [
    "The transformed version isn't any more like a normal distribution than the untransformed version so I don't see much reason to transform this feature."
   ]
  },
  {
   "cell_type": "code",
   "execution_count": 57,
   "metadata": {
    "scrolled": true
   },
   "outputs": [
    {
     "data": {
      "text/plain": [
       "<AxesSubplot:xlabel='target', ylabel='inq.last.6mths'>"
      ]
     },
     "execution_count": 57,
     "metadata": {},
     "output_type": "execute_result"
    },
    {
     "data": {
      "image/png": "[encoded data removed]",
      "text/plain": [
       "<Figure size 432x288 with 1 Axes>"
      ]
     },
     "metadata": {
      "needs_background": "light"
     },
     "output_type": "display_data"
    }
   ],
   "source": [
    "# Box plots of inq.last.6mths separated by value of target\n",
    "c_palette = {0:'lightblue', 1:'orange'}\n",
    "sns.boxplot(x='target', y='inq.last.6mths', data=df, orient='v', palette=c_palette)"
   ]
  },
  {
   "cell_type": "markdown",
   "metadata": {},
   "source": [
    "Differences between these two plots are difficult to see clearly, except the 3rd quartile is slightly higher when the target variable is 1."
   ]
  },
  {
   "cell_type": "code",
   "execution_count": 58,
   "metadata": {},
   "outputs": [
    {
     "data": {
      "text/plain": [
       "<AxesSubplot:xlabel='target', ylabel='inq.last.6mths'>"
      ]
     },
     "execution_count": 58,
     "metadata": {},
     "output_type": "execute_result"
    },
    {
     "data": {
      "image/png": "[encoded data removed]",
      "text/plain": [
       "<Figure size 432x288 with 1 Axes>"
      ]
     },
     "metadata": {
      "needs_background": "light"
     },
     "output_type": "display_data"
    }
   ],
   "source": [
    "df_minus_outlier = df[df['inq.last.6mths'] < 20]\n",
    "c_palette = {0:'lightblue', 1:'orange'}\n",
    "sns.boxplot(x='target', y='inq.last.6mths', data=df_minus_outlier, orient='v', palette=c_palette)"
   ]
  },
  {
   "cell_type": "markdown",
   "metadata": {},
   "source": [
    "These are very similar, but the 3rd quartile is slightly higher when the target variable is 1;  inq.last.6mths is not probably not a good predictor."
   ]
  },
  {
   "cell_type": "code",
   "execution_count": 59,
   "metadata": {
    "scrolled": true
   },
   "outputs": [
    {
     "data": {
      "text/plain": [
       "<AxesSubplot:xlabel='delinq.2yrs', ylabel='Count'>"
      ]
     },
     "execution_count": 59,
     "metadata": {},
     "output_type": "execute_result"
    },
    {
     "data": {
      "image/png": "[encoded data removed]",
      "text/plain": [
       "<Figure size 432x288 with 1 Axes>"
      ]
     },
     "metadata": {
      "needs_background": "light"
     },
     "output_type": "display_data"
    }
   ],
   "source": [
    "# Histgram of delinq.2yrs\n",
    "sns.histplot(df['delinq.2yrs'])"
   ]
  },
  {
   "cell_type": "code",
   "execution_count": 60,
   "metadata": {},
   "outputs": [
    {
     "name": "stdout",
     "output_type": "stream",
     "text": [
      "[ 0  1  2  5  3  6  4  7  8 11]\n",
      "10\n"
     ]
    }
   ],
   "source": [
    "print(pd.unique(df['delinq.2yrs']))\n",
    "print(len(pd.unique(df['delinq.2yrs'])))"
   ]
  },
  {
   "cell_type": "markdown",
   "metadata": {},
   "source": [
    "Since there's only 10 unique values for pub.rec there doesn't seem to be much point in transforming it, any transform is just going to be 10 different values. I could try treating it like a categorical feature and one-hot encode it, but if there's any data points in the testing data with delinq.2yrs equal to any of the missing values or greater than 11 they wouldn't get handled well."
   ]
  },
  {
   "cell_type": "code",
   "execution_count": 61,
   "metadata": {
    "scrolled": true
   },
   "outputs": [
    {
     "data": {
      "text/plain": [
       "<AxesSubplot:xlabel='delinq.2yrs'>"
      ]
     },
     "execution_count": 61,
     "metadata": {},
     "output_type": "execute_result"
    },
    {
     "data": {
      "image/png": "[encoded data removed]",
      "text/plain": [
       "<Figure size 432x288 with 1 Axes>"
      ]
     },
     "metadata": {
      "needs_background": "light"
     },
     "output_type": "display_data"
    }
   ],
   "source": [
    "#Bar plot of percentage of data that has 'target' = 1 separated by value of 'delinq.2yrs'\n",
    "delinq_2yrs_percents = pd.pivot_table(df, index = ['delinq.2yrs'], values = 'target' , aggfunc =\n",
    "{'target': np.mean})\n",
    "\n",
    "delinq_2yrs_percents.plot(kind = 'bar')"
   ]
  },
  {
   "cell_type": "markdown",
   "metadata": {},
   "source": [
    "Since these bars are all different heights, the value of delinq.2yrs has a strong effect on the probability of the target variable being 1 so delinq.2yrs is good predictor. \n",
    "\n",
    "The probability of target equaling 1 drops 0 once delinq.2yrs is greater than 4 rather than continueing the upward trend before that. This is probably do to the small number of data points with delinq.2yrs greater than 4, all of them coicidentally have the target equal to 0."
   ]
  },
  {
   "cell_type": "code",
   "execution_count": 62,
   "metadata": {
    "scrolled": false
   },
   "outputs": [
    {
     "data": {
      "text/plain": [
       "<AxesSubplot:xlabel='pub.rec', ylabel='Count'>"
      ]
     },
     "execution_count": 62,
     "metadata": {},
     "output_type": "execute_result"
    },
    {
     "data": {
      "image/png": "[encoded data removed]",
      "text/plain": [
       "<Figure size 432x288 with 1 Axes>"
      ]
     },
     "metadata": {
      "needs_background": "light"
     },
     "output_type": "display_data"
    }
   ],
   "source": [
    "# Histgram of pub.rec\n",
    "sns.histplot(df['pub.rec'])"
   ]
  },
  {
   "cell_type": "code",
   "execution_count": 63,
   "metadata": {},
   "outputs": [
    {
     "data": {
      "text/plain": [
       "array([0, 1, 2, 3, 4, 5], dtype=int64)"
      ]
     },
     "execution_count": 63,
     "metadata": {},
     "output_type": "execute_result"
    }
   ],
   "source": [
    "pd.unique(df['pub.rec'])"
   ]
  },
  {
   "cell_type": "markdown",
   "metadata": {},
   "source": [
    "Since there's only 6 unique values for pub.rec there doesn't seem to be much point in transforming it, any transform is just going to be 6 different values. I could try treating it like a categorical feature and one-hot encode it, but if there's any data points in the testing data with pub.rec > 5 they wouldn't get handled well."
   ]
  },
  {
   "cell_type": "code",
   "execution_count": 64,
   "metadata": {
    "scrolled": true
   },
   "outputs": [
    {
     "data": {
      "text/plain": [
       "<AxesSubplot:xlabel='pub.rec'>"
      ]
     },
     "execution_count": 64,
     "metadata": {},
     "output_type": "execute_result"
    },
    {
     "data": {
      "image/png": "[encoded data removed]",
      "text/plain": [
       "<Figure size 432x288 with 1 Axes>"
      ]
     },
     "metadata": {
      "needs_background": "light"
     },
     "output_type": "display_data"
    }
   ],
   "source": [
    "#Bar plot of percentage of data that has 'target' = 1 separated by value of 'pub.rec'\n",
    "pub_rec_percents = pd.pivot_table(df, index = ['pub.rec'], values = 'target' , aggfunc =\n",
    "{'target': np.mean})\n",
    "\n",
    "pub_rec_percents.plot(kind = 'bar')"
   ]
  },
  {
   "cell_type": "markdown",
   "metadata": {},
   "source": [
    "Since these bars are all different heights, the value of pub.rec has a strong effect on the probability of the target variable being 1 so pub.rec is good predictor. \n",
    "\n",
    "This feature could also be treated as a categorical feature with possible values of 0, 1, 2, and >2."
   ]
  },
  {
   "cell_type": "markdown",
   "metadata": {},
   "source": [
    "## Models"
   ]
  },
  {
   "cell_type": "markdown",
   "metadata": {},
   "source": [
    "### Separate features by type"
   ]
  },
  {
   "cell_type": "code",
   "execution_count": 65,
   "metadata": {
    "scrolled": true
   },
   "outputs": [
    {
     "name": "stdout",
     "output_type": "stream",
     "text": [
      "Index(['int.rate', 'installment', 'log.annual.inc', 'dti', 'fico',\n",
      "       'days.with.cr.line', 'revol.bal', 'revol.util', 'inq.last.6mths',\n",
      "       'delinq.2yrs', 'pub.rec'],\n",
      "      dtype='object')\n",
      "Index(['credit.policy', 'purpose', 'revol.bal.zero', 'revol.util.zero'], dtype='object')\n"
     ]
    }
   ],
   "source": [
    "# Make list of categorical columns\n",
    "categorical_features = pd.Index(['credit.policy', 'purpose','revol.bal.zero', 'revol.util.zero'])\n",
    "\n",
    "# Get list of numerical columns by removing categorical features and the target variable\n",
    "numerical_features = df.columns\n",
    "numerical_features = numerical_features.drop(categorical_features)\n",
    "numerical_features = numerical_features.drop(['target'])\n",
    "\n",
    "# Make list of columns that a power transform might be used on\n",
    "power_features = pd.Index(['installment', 'fico', 'revol.bal'])\n",
    "\n",
    "# Make list of columns to possibly omit because they are bad predictors\n",
    "omit_features = pd.Index(['log.annual.inc', 'dti', 'days.with.cr.line', 'inq.last.6mths'])\n",
    "\n",
    "# Make list of new columns to possibly include\n",
    "new_features = pd.Index(['revol.bal.zero', 'revol.util.zero'])\n",
    "\n",
    "\n",
    "print(numerical_features)\n",
    "print(categorical_features)"
   ]
  },
  {
   "cell_type": "markdown",
   "metadata": {},
   "source": [
    "### Preprocessing pipeline"
   ]
  },
  {
   "cell_type": "code",
   "execution_count": 66,
   "metadata": {
    "scrolled": true
   },
   "outputs": [],
   "source": [
    "#Create pipeline for imputing missing data and scaling\n",
    "\n",
    "\n",
    "# Pipeline for numerical columns\n",
    "numeric_transformer = Pipeline(\n",
    "steps=[(\"imputer\", SimpleImputer(strategy=\"median\")), (\"scaler\", StandardScaler())]\n",
    ")\n",
    "\n",
    "# Pipeline for categorical columns\n",
    "categorical_transformer = OneHotEncoder(handle_unknown=\"ignore\")\n",
    "\n",
    "# Pipeline for power transformer\n",
    "power_transformer = PowerTransformer()\n",
    "\n",
    "preprocessors = []\n",
    "\n",
    "# Create preprocessor for each combination of\n",
    "# whether or not to do a power transform\n",
    "# whether or not to omit certain features\n",
    "# whether or not to use \n",
    "for power in [True, False]:\n",
    "    for omit in [True, False]:\n",
    "        for new in [True, False]:\n",
    "            features = []\n",
    "            features.append(numerical_features)\n",
    "            \n",
    "            if power:\n",
    "                features.append(power_features)\n",
    "                features[0] = features[0].drop(power_features)\n",
    "            else:\n",
    "                features.append(pd.Index([]))\n",
    "                \n",
    "            features.append(categorical_features)\n",
    "            if omit:\n",
    "                features[0] = features[0].drop(omit_features)\n",
    "            if not new:\n",
    "                features[2] = features[2].drop(new_features)\n",
    "        # Combine pipelins\n",
    "            preprocessors.append( ColumnTransformer(\n",
    "            transformers=[\n",
    "                (\"num\", numeric_transformer, features[0]),\n",
    "                (\"pow\", power_transformer, features[1]),\n",
    "                (\"cat\", categorical_transformer, features[2]),]))"
   ]
  },
  {
   "cell_type": "markdown",
   "metadata": {},
   "source": [
    "The numerical features are put through a scaler that subtracts the mean then divides by the standard deviation, this helps with the convergence of the logistics regression.\n",
    "\n",
    "The categorical features are one-hot encoded, this converts the categorical features to numerical data that the models can use.\n",
    "\n",
    "Now there are 8 different pipelines for each combination of special treatments to apply to the data (power transform, omit certain features, add new features). I could go divide this even further into selecting which specific columns to power transform instead of just the three it looked like it might help and similarly with omitting features and adding new features, but that would be way too much for this project.\n",
    "\n",
    "These different pipelines are only needed for the logistics regression, the other models chosen are all tree based and do not really need any feature engineering, if it is important the model will \"figure it out\" on its own."
   ]
  },
  {
   "cell_type": "code",
   "execution_count": 67,
   "metadata": {},
   "outputs": [],
   "source": [
    "#Separate target from other columns\n",
    "X = df.drop(['target'], axis = 1)\n",
    "y = df['target']\n",
    "\n",
    " ### Get train & test data\n",
    "X_train, X_test, y_train, y_test = train_test_split(X, y, test_size=0.2, random_state=0, stratify = y)"
   ]
  },
  {
   "cell_type": "code",
   "execution_count": 208,
   "metadata": {},
   "outputs": [],
   "source": [
    "# Dataframe for final results\n",
    "results_final = pd.DataFrame(columns = ['model','accuracy', 'precision', 'AUC', 'recall', 'F1', 'F2', 'confusion matrix'])\n",
    "# Dataframe for results of model training\n",
    "results = pd.DataFrame(columns = ['model','train accuracy', 'test accuracy', 'precision', 'recall', 'AUC', 'F1', 'F2', 'confusion matrix'])\n",
    "# Dataframe for just logistics regression results\n",
    "results_logi = pd.DataFrame(columns = ['model','train accuracy', 'test accuracy', 'precision', 'recall', 'AUC', 'F1', 'F2', 'confusion matrix'])"
   ]
  },
  {
   "cell_type": "markdown",
   "metadata": {},
   "source": [
    "### Logistics Regression\n",
    "Two different logistics regressions will be used, one with all the default options and one with class_weight='balanced' which will give a higher weight to the underrepresented class of the target variable, this often works better for unbalanced data sets and prevents the model from over predicting data points as the overrepresented class."
   ]
  },
  {
   "cell_type": "code",
   "execution_count": 190,
   "metadata": {
    "scrolled": true
   },
   "outputs": [],
   "source": [
    " for pre in preprocessors:\n",
    "    # Add logistic regression to pipeline\n",
    "    logi = Pipeline(\n",
    "    steps=[(\"preprocessor\", pre), (\"classifier\", LogisticRegression())]\n",
    "    )\n",
    "\n",
    "    # Fit model and training data\n",
    "    logi.fit(X_train, y_train)\n",
    "\n",
    "    y_pred = logi.predict(X_test)\n",
    "\n",
    "    scores = {};\n",
    "    scores['model'] = ['Logistic Regression']\n",
    "    scores['train accuracy'] = [logi.score(X_train, y_train)]\n",
    "    scores['test accuracy'] = [logi.score(X_test, y_test)]\n",
    "    scores['precision'] = [precision_score(y_test, y_pred)]\n",
    "    scores['recall'] =  [recall_score(y_test, y_pred)]\n",
    "    \n",
    "    fpr, tpr, thresholds = roc_curve(y_test, y_pred, pos_label=1)\n",
    "    scores['AUC'] = auc(fpr, tpr)\n",
    "    \n",
    "    \n",
    "    scores['F1'] = [f1_score(y_test, y_pred)]\n",
    "    scores['F2'] = [fbeta_score(y_test, y_pred, beta=2)]\n",
    "    scores['confusion matrix'] = [confusion_matrix(y_test, y_pred)]\n",
    "    scores = pd.DataFrame.from_dict(scores)\n",
    "    results_logi = pd.concat([results_logi, scores],ignore_index=True)"
   ]
  },
  {
   "cell_type": "code",
   "execution_count": 191,
   "metadata": {},
   "outputs": [],
   "source": [
    "for pre in preprocessors:\n",
    "    # Add logistic regression to pipeline\n",
    "    logi = Pipeline(\n",
    "    steps=[(\"preprocessor\", pre), (\"classifier\", LogisticRegression(class_weight='balanced'))]\n",
    "    )\n",
    "\n",
    "    # Fit model and training data\n",
    "    logi.fit(X_train, y_train)\n",
    "\n",
    "    y_pred = logi.predict(X_test)\n",
    "\n",
    "    scores = {};\n",
    "    scores['model'] = ['Logistic Regression - Balanced']\n",
    "    scores['train accuracy'] = [logi.score(X_train, y_train)]\n",
    "    scores['test accuracy'] = [logi.score(X_test, y_test)]\n",
    "    scores['precision'] = [precision_score(y_test, y_pred)]\n",
    "    scores['recall'] =  [recall_score(y_test, y_pred)]\n",
    "    \n",
    "    fpr, tpr, thresholds = roc_curve(y_test, y_pred, pos_label=1)\n",
    "    scores['AUC'] = auc(fpr, tpr)\n",
    "\n",
    "    \n",
    "    scores['F1'] = [f1_score(y_test, y_pred)]\n",
    "    scores['F2'] = [fbeta_score(y_test, y_pred, beta=2)]\n",
    "    scores['confusion matrix'] = [confusion_matrix(y_test, y_pred)]\n",
    "    scores = pd.DataFrame.from_dict(scores)\n",
    "    results_logi = pd.concat([results_logi, scores],ignore_index=True)"
   ]
  },
  {
   "cell_type": "code",
   "execution_count": 192,
   "metadata": {
    "scrolled": false
   },
   "outputs": [
    {
     "data": {
      "text/html": [
       "<div>\n",
       "<style scoped>\n",
       "    .dataframe tbody tr th:only-of-type {\n",
       "        vertical-align: middle;\n",
       "    }\n",
       "\n",
       "    .dataframe tbody tr th {\n",
       "        vertical-align: top;\n",
       "    }\n",
       "\n",
       "    .dataframe thead th {\n",
       "        text-align: right;\n",
       "    }\n",
       "</style>\n",
       "<table border=\"1\" class=\"dataframe\">\n",
       "  <thead>\n",
       "    <tr style=\"text-align: right;\">\n",
       "      <th></th>\n",
       "      <th>model</th>\n",
       "      <th>train accuracy</th>\n",
       "      <th>test accuracy</th>\n",
       "      <th>precision</th>\n",
       "      <th>recall</th>\n",
       "      <th>AUC</th>\n",
       "      <th>F1</th>\n",
       "      <th>F2</th>\n",
       "      <th>confusion matrix</th>\n",
       "    </tr>\n",
       "  </thead>\n",
       "  <tbody>\n",
       "    <tr>\n",
       "      <th>0</th>\n",
       "      <td>Logistic Regression</td>\n",
       "      <td>0.840920</td>\n",
       "      <td>0.840183</td>\n",
       "      <td>0.500000</td>\n",
       "      <td>0.012245</td>\n",
       "      <td>0.504958</td>\n",
       "      <td>0.023904</td>\n",
       "      <td>0.015213</td>\n",
       "      <td>[[1285, 3], [242, 3]]</td>\n",
       "    </tr>\n",
       "    <tr>\n",
       "      <th>1</th>\n",
       "      <td>Logistic Regression</td>\n",
       "      <td>0.841083</td>\n",
       "      <td>0.840183</td>\n",
       "      <td>0.500000</td>\n",
       "      <td>0.012245</td>\n",
       "      <td>0.504958</td>\n",
       "      <td>0.023904</td>\n",
       "      <td>0.015213</td>\n",
       "      <td>[[1285, 3], [242, 3]]</td>\n",
       "    </tr>\n",
       "    <tr>\n",
       "      <th>2</th>\n",
       "      <td>Logistic Regression</td>\n",
       "      <td>0.841083</td>\n",
       "      <td>0.840835</td>\n",
       "      <td>0.533333</td>\n",
       "      <td>0.032653</td>\n",
       "      <td>0.513609</td>\n",
       "      <td>0.061538</td>\n",
       "      <td>0.040201</td>\n",
       "      <td>[[1281, 7], [237, 8]]</td>\n",
       "    </tr>\n",
       "    <tr>\n",
       "      <th>3</th>\n",
       "      <td>Logistic Regression</td>\n",
       "      <td>0.841736</td>\n",
       "      <td>0.839530</td>\n",
       "      <td>0.466667</td>\n",
       "      <td>0.028571</td>\n",
       "      <td>0.511180</td>\n",
       "      <td>0.053846</td>\n",
       "      <td>0.035176</td>\n",
       "      <td>[[1280, 8], [238, 7]]</td>\n",
       "    </tr>\n",
       "    <tr>\n",
       "      <th>4</th>\n",
       "      <td>Logistic Regression</td>\n",
       "      <td>0.841736</td>\n",
       "      <td>0.839530</td>\n",
       "      <td>0.428571</td>\n",
       "      <td>0.012245</td>\n",
       "      <td>0.504570</td>\n",
       "      <td>0.023810</td>\n",
       "      <td>0.015198</td>\n",
       "      <td>[[1284, 4], [242, 3]]</td>\n",
       "    </tr>\n",
       "    <tr>\n",
       "      <th>5</th>\n",
       "      <td>Logistic Regression</td>\n",
       "      <td>0.842225</td>\n",
       "      <td>0.839530</td>\n",
       "      <td>0.428571</td>\n",
       "      <td>0.012245</td>\n",
       "      <td>0.504570</td>\n",
       "      <td>0.023810</td>\n",
       "      <td>0.015198</td>\n",
       "      <td>[[1284, 4], [242, 3]]</td>\n",
       "    </tr>\n",
       "    <tr>\n",
       "      <th>6</th>\n",
       "      <td>Logistic Regression</td>\n",
       "      <td>0.841736</td>\n",
       "      <td>0.841487</td>\n",
       "      <td>0.571429</td>\n",
       "      <td>0.032653</td>\n",
       "      <td>0.513997</td>\n",
       "      <td>0.061776</td>\n",
       "      <td>0.040241</td>\n",
       "      <td>[[1282, 6], [237, 8]]</td>\n",
       "    </tr>\n",
       "    <tr>\n",
       "      <th>7</th>\n",
       "      <td>Logistic Regression</td>\n",
       "      <td>0.841573</td>\n",
       "      <td>0.840835</td>\n",
       "      <td>0.533333</td>\n",
       "      <td>0.032653</td>\n",
       "      <td>0.513609</td>\n",
       "      <td>0.061538</td>\n",
       "      <td>0.040201</td>\n",
       "      <td>[[1281, 7], [237, 8]]</td>\n",
       "    </tr>\n",
       "    <tr>\n",
       "      <th>8</th>\n",
       "      <td>Logistic Regression - Balanced</td>\n",
       "      <td>0.645456</td>\n",
       "      <td>0.641226</td>\n",
       "      <td>0.230088</td>\n",
       "      <td>0.530612</td>\n",
       "      <td>0.596440</td>\n",
       "      <td>0.320988</td>\n",
       "      <td>0.420712</td>\n",
       "      <td>[[853, 435], [115, 130]]</td>\n",
       "    </tr>\n",
       "    <tr>\n",
       "      <th>9</th>\n",
       "      <td>Logistic Regression - Balanced</td>\n",
       "      <td>0.645782</td>\n",
       "      <td>0.649706</td>\n",
       "      <td>0.237410</td>\n",
       "      <td>0.538776</td>\n",
       "      <td>0.604791</td>\n",
       "      <td>0.329588</td>\n",
       "      <td>0.429687</td>\n",
       "      <td>[[864, 424], [113, 132]]</td>\n",
       "    </tr>\n",
       "    <tr>\n",
       "      <th>10</th>\n",
       "      <td>Logistic Regression - Balanced</td>\n",
       "      <td>0.649698</td>\n",
       "      <td>0.645140</td>\n",
       "      <td>0.240901</td>\n",
       "      <td>0.567347</td>\n",
       "      <td>0.613642</td>\n",
       "      <td>0.338200</td>\n",
       "      <td>0.446371</td>\n",
       "      <td>[[850, 438], [106, 139]]</td>\n",
       "    </tr>\n",
       "    <tr>\n",
       "      <th>11</th>\n",
       "      <td>Logistic Regression - Balanced</td>\n",
       "      <td>0.650514</td>\n",
       "      <td>0.645793</td>\n",
       "      <td>0.239510</td>\n",
       "      <td>0.559184</td>\n",
       "      <td>0.610725</td>\n",
       "      <td>0.335373</td>\n",
       "      <td>0.441366</td>\n",
       "      <td>[[853, 435], [108, 137]]</td>\n",
       "    </tr>\n",
       "    <tr>\n",
       "      <th>12</th>\n",
       "      <td>Logistic Regression - Balanced</td>\n",
       "      <td>0.641867</td>\n",
       "      <td>0.638617</td>\n",
       "      <td>0.229422</td>\n",
       "      <td>0.534694</td>\n",
       "      <td>0.596539</td>\n",
       "      <td>0.321078</td>\n",
       "      <td>0.422308</td>\n",
       "      <td>[[848, 440], [114, 131]]</td>\n",
       "    </tr>\n",
       "    <tr>\n",
       "      <th>13</th>\n",
       "      <td>Logistic Regression - Balanced</td>\n",
       "      <td>0.643009</td>\n",
       "      <td>0.638617</td>\n",
       "      <td>0.228471</td>\n",
       "      <td>0.530612</td>\n",
       "      <td>0.594887</td>\n",
       "      <td>0.319410</td>\n",
       "      <td>0.419626</td>\n",
       "      <td>[[849, 439], [115, 130]]</td>\n",
       "    </tr>\n",
       "    <tr>\n",
       "      <th>14</th>\n",
       "      <td>Logistic Regression - Balanced</td>\n",
       "      <td>0.645293</td>\n",
       "      <td>0.637312</td>\n",
       "      <td>0.238655</td>\n",
       "      <td>0.579592</td>\n",
       "      <td>0.613942</td>\n",
       "      <td>0.338095</td>\n",
       "      <td>0.450794</td>\n",
       "      <td>[[835, 453], [103, 142]]</td>\n",
       "    </tr>\n",
       "    <tr>\n",
       "      <th>15</th>\n",
       "      <td>Logistic Regression - Balanced</td>\n",
       "      <td>0.645782</td>\n",
       "      <td>0.646445</td>\n",
       "      <td>0.246154</td>\n",
       "      <td>0.587755</td>\n",
       "      <td>0.622682</td>\n",
       "      <td>0.346988</td>\n",
       "      <td>0.460064</td>\n",
       "      <td>[[847, 441], [101, 144]]</td>\n",
       "    </tr>\n",
       "  </tbody>\n",
       "</table>\n",
       "</div>"
      ],
      "text/plain": [
       "                             model  train accuracy  test accuracy  precision  \\\n",
       "0              Logistic Regression        0.840920       0.840183   0.500000   \n",
       "1              Logistic Regression        0.841083       0.840183   0.500000   \n",
       "2              Logistic Regression        0.841083       0.840835   0.533333   \n",
       "3              Logistic Regression        0.841736       0.839530   0.466667   \n",
       "4              Logistic Regression        0.841736       0.839530   0.428571   \n",
       "5              Logistic Regression        0.842225       0.839530   0.428571   \n",
       "6              Logistic Regression        0.841736       0.841487   0.571429   \n",
       "7              Logistic Regression        0.841573       0.840835   0.533333   \n",
       "8   Logistic Regression - Balanced        0.645456       0.641226   0.230088   \n",
       "9   Logistic Regression - Balanced        0.645782       0.649706   0.237410   \n",
       "10  Logistic Regression - Balanced        0.649698       0.645140   0.240901   \n",
       "11  Logistic Regression - Balanced        0.650514       0.645793   0.239510   \n",
       "12  Logistic Regression - Balanced        0.641867       0.638617   0.229422   \n",
       "13  Logistic Regression - Balanced        0.643009       0.638617   0.228471   \n",
       "14  Logistic Regression - Balanced        0.645293       0.637312   0.238655   \n",
       "15  Logistic Regression - Balanced        0.645782       0.646445   0.246154   \n",
       "\n",
       "      recall       AUC        F1        F2          confusion matrix  \n",
       "0   0.012245  0.504958  0.023904  0.015213     [[1285, 3], [242, 3]]  \n",
       "1   0.012245  0.504958  0.023904  0.015213     [[1285, 3], [242, 3]]  \n",
       "2   0.032653  0.513609  0.061538  0.040201     [[1281, 7], [237, 8]]  \n",
       "3   0.028571  0.511180  0.053846  0.035176     [[1280, 8], [238, 7]]  \n",
       "4   0.012245  0.504570  0.023810  0.015198     [[1284, 4], [242, 3]]  \n",
       "5   0.012245  0.504570  0.023810  0.015198     [[1284, 4], [242, 3]]  \n",
       "6   0.032653  0.513997  0.061776  0.040241     [[1282, 6], [237, 8]]  \n",
       "7   0.032653  0.513609  0.061538  0.040201     [[1281, 7], [237, 8]]  \n",
       "8   0.530612  0.596440  0.320988  0.420712  [[853, 435], [115, 130]]  \n",
       "9   0.538776  0.604791  0.329588  0.429687  [[864, 424], [113, 132]]  \n",
       "10  0.567347  0.613642  0.338200  0.446371  [[850, 438], [106, 139]]  \n",
       "11  0.559184  0.610725  0.335373  0.441366  [[853, 435], [108, 137]]  \n",
       "12  0.534694  0.596539  0.321078  0.422308  [[848, 440], [114, 131]]  \n",
       "13  0.530612  0.594887  0.319410  0.419626  [[849, 439], [115, 130]]  \n",
       "14  0.579592  0.613942  0.338095  0.450794  [[835, 453], [103, 142]]  \n",
       "15  0.587755  0.622682  0.346988  0.460064  [[847, 441], [101, 144]]  "
      ]
     },
     "execution_count": 192,
     "metadata": {},
     "output_type": "execute_result"
    }
   ],
   "source": [
    "results_logi"
   ]
  },
  {
   "cell_type": "markdown",
   "metadata": {},
   "source": [
    "Using the balanced option in the logistics regression greatly improves the recall and the F2 ( our business metric)\n",
    "\n",
    "The best model is the one where no special treatments where done to the data. (Didn't do any power transforms, left it all the features, and didn't add new features)"
   ]
  },
  {
   "cell_type": "markdown",
   "metadata": {},
   "source": [
    "### Random Forest"
   ]
  },
  {
   "cell_type": "code",
   "execution_count": 70,
   "metadata": {},
   "outputs": [],
   "source": [
    "# Make scorer for grid search\n",
    "ftwo_scorer = make_scorer(fbeta_score, beta=2)\n",
    "\n",
    "# Set categorical_features back the original features by removing the added features\n",
    "categorical_features = categorical_features.drop(new_features)\n",
    "# Combine pipelines\n",
    "preprocessor = ColumnTransformer(\n",
    "    transformers=[\n",
    "                (\"num\", numeric_transformer, numerical_features),\n",
    "                (\"cat\", categorical_transformer, categorical_features),])"
   ]
  },
  {
   "cell_type": "code",
   "execution_count": 161,
   "metadata": {
    "scrolled": true
   },
   "outputs": [
    {
     "name": "stdout",
     "output_type": "stream",
     "text": [
      "Pipeline(steps=[('preprocessor',\n",
      "                 ColumnTransformer(transformers=[('num',\n",
      "                                                  Pipeline(steps=[('imputer',\n",
      "                                                                   SimpleImputer(strategy='median')),\n",
      "                                                                  ('scaler',\n",
      "                                                                   StandardScaler())]),\n",
      "                                                  Index(['int.rate', 'installment', 'log.annual.inc', 'dti', 'fico',\n",
      "       'days.with.cr.line', 'revol.bal', 'revol.util', 'inq.last.6mths',\n",
      "       'delinq.2yrs', 'pub.rec'],\n",
      "      dtype='object')),\n",
      "                                                 ('cat',\n",
      "                                                  OneHotEncoder(handle_unknown='ignore'),\n",
      "                                                  Index(['credit.policy', 'purpose'], dtype='object'))])),\n",
      "                ('classifier',\n",
      "                 RandomForestClassifier(ccp_alpha=0.015,\n",
      "                                        class_weight='balanced',\n",
      "                                        criterion='entropy', max_depth=5,\n",
      "                                        max_features=0.1, n_estimators=4,\n",
      "                                        random_state=0))])\n"
     ]
    }
   ],
   "source": [
    "# Add forest to pipeline\n",
    "forest = Pipeline(\n",
    "steps=[(\"preprocessor\", preprocessor), \n",
    "       (\"classifier\", RandomForestClassifier(random_state=0))])\n",
    "\n",
    "\n",
    "# Parameters for grid search\n",
    "parameters = {'classifier__n_estimators':(3,4,5,6,7),\n",
    "              'classifier__max_depth':(3,4,5,10), \n",
    "              'classifier__criterion':('entropy', 'gini'), \n",
    "              'classifier__min_samples_leaf':(1,5,10),\n",
    "              'classifier__max_features' :(.1,.2),  \n",
    "              'classifier__ccp_alpha': (0,.01,.015,.02),\n",
    "              'classifier__class_weight': (None, 'balanced')}\n",
    "best_forest = GridSearchCV(forest, parameters, scoring=ftwo_scorer)\n",
    "best_forest.fit(X,y)\n",
    "print(best_forest.best_estimator_)"
   ]
  },
  {
   "cell_type": "markdown",
   "metadata": {},
   "source": [
    "### Gradient Boosting"
   ]
  },
  {
   "cell_type": "code",
   "execution_count": 196,
   "metadata": {},
   "outputs": [
    {
     "name": "stdout",
     "output_type": "stream",
     "text": [
      "Pipeline(steps=[('preprocessor',\n",
      "                 ColumnTransformer(transformers=[('num',\n",
      "                                                  Pipeline(steps=[('imputer',\n",
      "                                                                   SimpleImputer(strategy='median')),\n",
      "                                                                  ('scaler',\n",
      "                                                                   StandardScaler())]),\n",
      "                                                  Index(['int.rate', 'installment', 'log.annual.inc', 'dti', 'fico',\n",
      "       'days.with.cr.line', 'revol.bal', 'revol.util', 'inq.last.6mths',\n",
      "       'delinq.2yrs', 'pub.rec'],\n",
      "      dtype='object')),\n",
      "                                                 ('cat',\n",
      "                                                  OneHotEncoder(handle_unknown='ignore'),\n",
      "                                                  Index(['credit.policy', 'purpose'], dtype='object'))])),\n",
      "                ('classifier',\n",
      "                 GradientBoostingClassifier(ccp_alpha=0, learning_rate=1,\n",
      "                                            max_depth=25, n_estimators=4,\n",
      "                                            random_state=0))])\n"
     ]
    }
   ],
   "source": [
    "# Add forest to pipeline\n",
    "GBM = Pipeline(\n",
    "steps=[(\"preprocessor\", preprocessor), \n",
    "       (\"classifier\", GradientBoostingClassifier(random_state=0))])\n",
    "\n",
    "\n",
    "# Parameters for grid search\n",
    "parameters = {'classifier__n_estimators':(3,4,5,10),\n",
    "              'classifier__max_depth':(20,25,30), \n",
    "              'classifier__learning_rate':(.1, .5, .7,.9, 1),  \n",
    "              'classifier__ccp_alpha': (0,.005,.01),\n",
    "}\n",
    "best_GBM = GridSearchCV(GBM, parameters, scoring=ftwo_scorer)\n",
    "best_GBM.fit(X,y)\n",
    "print(best_GBM.best_estimator_)"
   ]
  },
  {
   "cell_type": "markdown",
   "metadata": {},
   "source": [
    "### Decision Tree"
   ]
  },
  {
   "cell_type": "code",
   "execution_count": 136,
   "metadata": {},
   "outputs": [
    {
     "name": "stdout",
     "output_type": "stream",
     "text": [
      "Pipeline(steps=[('preprocessor',\n",
      "                 ColumnTransformer(transformers=[('num',\n",
      "                                                  Pipeline(steps=[('imputer',\n",
      "                                                                   SimpleImputer(strategy='median')),\n",
      "                                                                  ('scaler',\n",
      "                                                                   StandardScaler())]),\n",
      "                                                  Index(['int.rate', 'installment', 'log.annual.inc', 'dti', 'fico',\n",
      "       'days.with.cr.line', 'revol.bal', 'revol.util', 'inq.last.6mths',\n",
      "       'delinq.2yrs', 'pub.rec'],\n",
      "      dtype='object')),\n",
      "                                                 ('cat',\n",
      "                                                  OneHotEncoder(handle_unknown='ignore'),\n",
      "                                                  Index(['credit.policy', 'purpose'], dtype='object'))])),\n",
      "                ('classifier',\n",
      "                 DecisionTreeClassifier(ccp_alpha=0, class_weight='balanced',\n",
      "                                        max_depth=5, max_features=0.1,\n",
      "                                        min_samples_leaf=5, random_state=0))])\n"
     ]
    }
   ],
   "source": [
    "# Add Tree to pipeline\n",
    "tree = Pipeline(\n",
    "steps=[(\"preprocessor\", preprocessor), (\"classifier\", DecisionTreeClassifier(random_state=0))]\n",
    ")\n",
    "\n",
    "# Parameters for gridsearch\n",
    "parameters = {'classifier__max_depth':(2,5,10,20,25), \n",
    "              'classifier__criterion':('entropy', 'gini'), \n",
    "              'classifier__min_samples_leaf':(1,2,5,10,20,25),\n",
    "              'classifier__max_features' :(.1,.3,.5,.7,.9),  \n",
    "              'classifier__ccp_alpha': (0,),\n",
    "              'classifier__class_weight': (None, 'balanced')}\n",
    "best_tree = GridSearchCV(tree, parameters, scoring=ftwo_scorer)\n",
    "best_tree.fit(X,y)\n",
    "print(best_tree.best_estimator_)"
   ]
  },
  {
   "cell_type": "code",
   "execution_count": 209,
   "metadata": {},
   "outputs": [
    {
     "data": {
      "image/png": "[encoded data removed]",
      "text/plain": [
       "<Figure size 432x288 with 1 Axes>"
      ]
     },
     "metadata": {
      "needs_background": "light"
     },
     "output_type": "display_data"
    }
   ],
   "source": [
    "models = [('Logistics', LogisticRegression(class_weight='balanced')), \n",
    "          ('Forest',   RandomForestClassifier(ccp_alpha=0.015, class_weight='balanced',\n",
    "                                        criterion='entropy', max_depth=5,\n",
    "                                        max_features=0.1, n_estimators=4,\n",
    "                                        random_state=0)),\n",
    "          ('GBM',\n",
    "                 GradientBoostingClassifier(ccp_alpha=0, learning_rate=1,\n",
    "                                            max_depth=25, n_estimators=4,\n",
    "                                            random_state=0)),\n",
    "          ('Tree',      DecisionTreeClassifier(ccp_alpha=0, class_weight='balanced',\n",
    "                                        max_depth=5, max_features=0.1,\n",
    "                                        min_samples_leaf=5, random_state=0)) ]\n",
    "\n",
    "for model in models:\n",
    "    # Add logistic regression to pipeline\n",
    "    pipe = Pipeline(\n",
    "    steps=[(\"preprocessor\", preprocessor), model]\n",
    "    )\n",
    "\n",
    "    # Fit model and training data\n",
    "    pipe.fit(X_train, y_train)\n",
    "\n",
    "    y_pred = pipe.predict(X_test)\n",
    "\n",
    "    scores = {};\n",
    "    scores['model'] = [model[0]]\n",
    "    scores['train accuracy'] = [pipe.score(X_train, y_train)]\n",
    "    scores['test accuracy'] = [pipe.score(X_test, y_test)]\n",
    "    scores['precision'] = [precision_score(y_test, y_pred)]\n",
    "    scores['recall'] =  [recall_score(y_test, y_pred)]\n",
    "    \n",
    "    fpr, tpr, thresholds = roc_curve(y_test, y_pred, pos_label=1)\n",
    "    scores['AUC'] = auc(fpr, tpr)\n",
    "\n",
    "    scores['F1'] = [f1_score(y_test, y_pred)]\n",
    "    scores['F2'] = [fbeta_score(y_test, y_pred, beta=2)]\n",
    "    scores['confusion matrix'] = [confusion_matrix(y_test, y_pred)]\n",
    "    scores = pd.DataFrame.from_dict(scores)\n",
    "    results = pd.concat([results, scores],ignore_index=True)\n",
    "    \n",
    "\n",
    "    plt.plot(fpr, tpr, label= model[0])\n",
    "\n",
    "plt.legend()\n",
    "plt.xlabel(\"FPR\")\n",
    "plt.ylabel(\"TPR\")\n",
    "plt.title('Receiver Operating Characteristic')\n",
    "plt.show()"
   ]
  },
  {
   "cell_type": "code",
   "execution_count": 210,
   "metadata": {
    "scrolled": true
   },
   "outputs": [
    {
     "data": {
      "text/html": [
       "<div>\n",
       "<style scoped>\n",
       "    .dataframe tbody tr th:only-of-type {\n",
       "        vertical-align: middle;\n",
       "    }\n",
       "\n",
       "    .dataframe tbody tr th {\n",
       "        vertical-align: top;\n",
       "    }\n",
       "\n",
       "    .dataframe thead th {\n",
       "        text-align: right;\n",
       "    }\n",
       "</style>\n",
       "<table border=\"1\" class=\"dataframe\">\n",
       "  <thead>\n",
       "    <tr style=\"text-align: right;\">\n",
       "      <th></th>\n",
       "      <th>model</th>\n",
       "      <th>train accuracy</th>\n",
       "      <th>test accuracy</th>\n",
       "      <th>precision</th>\n",
       "      <th>recall</th>\n",
       "      <th>AUC</th>\n",
       "      <th>F1</th>\n",
       "      <th>F2</th>\n",
       "      <th>confusion matrix</th>\n",
       "    </tr>\n",
       "  </thead>\n",
       "  <tbody>\n",
       "    <tr>\n",
       "      <th>0</th>\n",
       "      <td>Logistics</td>\n",
       "      <td>0.645782</td>\n",
       "      <td>0.646445</td>\n",
       "      <td>0.246154</td>\n",
       "      <td>0.587755</td>\n",
       "      <td>0.622682</td>\n",
       "      <td>0.346988</td>\n",
       "      <td>0.460064</td>\n",
       "      <td>[[847, 441], [101, 144]]</td>\n",
       "    </tr>\n",
       "    <tr>\n",
       "      <th>1</th>\n",
       "      <td>Forest</td>\n",
       "      <td>0.631588</td>\n",
       "      <td>0.630137</td>\n",
       "      <td>0.230769</td>\n",
       "      <td>0.563265</td>\n",
       "      <td>0.603061</td>\n",
       "      <td>0.327402</td>\n",
       "      <td>0.437262</td>\n",
       "      <td>[[828, 460], [107, 138]]</td>\n",
       "    </tr>\n",
       "    <tr>\n",
       "      <th>2</th>\n",
       "      <td>GBM</td>\n",
       "      <td>1.000000</td>\n",
       "      <td>0.750163</td>\n",
       "      <td>0.232558</td>\n",
       "      <td>0.244898</td>\n",
       "      <td>0.545586</td>\n",
       "      <td>0.238569</td>\n",
       "      <td>0.242326</td>\n",
       "      <td>[[1090, 198], [185, 60]]</td>\n",
       "    </tr>\n",
       "    <tr>\n",
       "      <th>3</th>\n",
       "      <td>Tree</td>\n",
       "      <td>0.693425</td>\n",
       "      <td>0.684932</td>\n",
       "      <td>0.218009</td>\n",
       "      <td>0.375510</td>\n",
       "      <td>0.559650</td>\n",
       "      <td>0.275862</td>\n",
       "      <td>0.328103</td>\n",
       "      <td>[[958, 330], [153, 92]]</td>\n",
       "    </tr>\n",
       "  </tbody>\n",
       "</table>\n",
       "</div>"
      ],
      "text/plain": [
       "       model  train accuracy  test accuracy  precision    recall       AUC  \\\n",
       "0  Logistics        0.645782       0.646445   0.246154  0.587755  0.622682   \n",
       "1     Forest        0.631588       0.630137   0.230769  0.563265  0.603061   \n",
       "2        GBM        1.000000       0.750163   0.232558  0.244898  0.545586   \n",
       "3       Tree        0.693425       0.684932   0.218009  0.375510  0.559650   \n",
       "\n",
       "         F1        F2          confusion matrix  \n",
       "0  0.346988  0.460064  [[847, 441], [101, 144]]  \n",
       "1  0.327402  0.437262  [[828, 460], [107, 138]]  \n",
       "2  0.238569  0.242326  [[1090, 198], [185, 60]]  \n",
       "3  0.275862  0.328103   [[958, 330], [153, 92]]  "
      ]
     },
     "execution_count": 210,
     "metadata": {},
     "output_type": "execute_result"
    }
   ],
   "source": [
    "results"
   ]
  },
  {
   "cell_type": "markdown",
   "metadata": {},
   "source": [
    "The logistics regression is the best model. It scores the highest in the metric of interest, F2-score, and has the highest precision, recalls, and AUC. Its ROC curve is also higher (closer to the top left corner) than all the others.\n",
    "\n",
    "It's still not great, it's only identifying about 60% of the people that will not fully pay loans (recall = .58) and 75% of those it identifies as not fully paying back their loan will actually fully pay it.\n",
    "\n",
    "Random Forest does the second best and maybe if the hyperparameters were adjusting better it could outperform the logistics regression.\n",
    "\n",
    "GBM is overfitting to the data, it does really well on the training data but underperforms on the test data. This could probably be fixed by further hyperparameter fitting or special treatment for the unbalanced dataset."
   ]
  },
  {
   "cell_type": "markdown",
   "metadata": {},
   "source": [
    "## Final Results"
   ]
  },
  {
   "cell_type": "code",
   "execution_count": 211,
   "metadata": {
    "scrolled": true
   },
   "outputs": [
    {
     "data": {
      "image/png": "[encoded data removed]",
      "text/plain": [
       "<Figure size 432x288 with 1 Axes>"
      ]
     },
     "metadata": {
      "needs_background": "light"
     },
     "output_type": "display_data"
    }
   ],
   "source": [
    "for model in models:\n",
    "    # Add logistic regression to pipeline\n",
    "    pipe = Pipeline(\n",
    "    steps=[(\"preprocessor\", preprocessor), model]\n",
    "    )\n",
    "\n",
    "\n",
    "    y_pred = pipe.predict(X_final_test)\n",
    "\n",
    "    scores = {};\n",
    "    scores['model'] = [model[0]]\n",
    "    scores['accuracy'] = [pipe.score(X_final_test, y_final_test)]\n",
    "    scores['precision'] = [precision_score(y_final_test, y_pred)]\n",
    "    scores['recall'] =  [recall_score(y_final_test, y_pred)]\n",
    "    \n",
    "    fpr, tpr, thresholds = roc_curve(y_final_test, y_pred, pos_label=1)\n",
    "    scores['AUC'] = auc(fpr, tpr)\n",
    "\n",
    "    scores['F1'] = [f1_score(y_final_test, y_pred)]\n",
    "    scores['F2'] = [fbeta_score(y_final_test, y_pred, beta=2)]\n",
    "    scores['confusion matrix'] = [confusion_matrix(y_final_test, y_pred)]\n",
    "    scores = pd.DataFrame.from_dict(scores)\n",
    "    results_final = pd.concat([results_final, scores],ignore_index=True)\n",
    "    \n",
    "\n",
    "    plt.plot(fpr, tpr, label= model[0])\n",
    "\n",
    "plt.legend()\n",
    "plt.xlabel(\"FPR\")\n",
    "plt.ylabel(\"TPR\")\n",
    "plt.title('Receiver Operating Characteristic')\n",
    "plt.show()"
   ]
  },
  {
   "cell_type": "code",
   "execution_count": 212,
   "metadata": {
    "scrolled": true
   },
   "outputs": [
    {
     "data": {
      "text/html": [
       "<div>\n",
       "<style scoped>\n",
       "    .dataframe tbody tr th:only-of-type {\n",
       "        vertical-align: middle;\n",
       "    }\n",
       "\n",
       "    .dataframe tbody tr th {\n",
       "        vertical-align: top;\n",
       "    }\n",
       "\n",
       "    .dataframe thead th {\n",
       "        text-align: right;\n",
       "    }\n",
       "</style>\n",
       "<table border=\"1\" class=\"dataframe\">\n",
       "  <thead>\n",
       "    <tr style=\"text-align: right;\">\n",
       "      <th></th>\n",
       "      <th>model</th>\n",
       "      <th>accuracy</th>\n",
       "      <th>precision</th>\n",
       "      <th>AUC</th>\n",
       "      <th>recall</th>\n",
       "      <th>F1</th>\n",
       "      <th>F2</th>\n",
       "      <th>confusion matrix</th>\n",
       "    </tr>\n",
       "  </thead>\n",
       "  <tbody>\n",
       "    <tr>\n",
       "      <th>0</th>\n",
       "      <td>Logistics</td>\n",
       "      <td>0.655532</td>\n",
       "      <td>0.255201</td>\n",
       "      <td>0.632800</td>\n",
       "      <td>0.599349</td>\n",
       "      <td>0.357977</td>\n",
       "      <td>0.472037</td>\n",
       "      <td>[[1072, 537], [123, 184]]</td>\n",
       "    </tr>\n",
       "    <tr>\n",
       "      <th>1</th>\n",
       "      <td>Forest</td>\n",
       "      <td>0.628914</td>\n",
       "      <td>0.234211</td>\n",
       "      <td>0.609045</td>\n",
       "      <td>0.579805</td>\n",
       "      <td>0.333646</td>\n",
       "      <td>0.447686</td>\n",
       "      <td>[[1027, 582], [129, 178]]</td>\n",
       "    </tr>\n",
       "    <tr>\n",
       "      <th>2</th>\n",
       "      <td>GBM</td>\n",
       "      <td>0.732777</td>\n",
       "      <td>0.212885</td>\n",
       "      <td>0.536457</td>\n",
       "      <td>0.247557</td>\n",
       "      <td>0.228916</td>\n",
       "      <td>0.239748</td>\n",
       "      <td>[[1328, 281], [231, 76]]</td>\n",
       "    </tr>\n",
       "    <tr>\n",
       "      <th>3</th>\n",
       "      <td>Tree</td>\n",
       "      <td>0.692067</td>\n",
       "      <td>0.233522</td>\n",
       "      <td>0.575478</td>\n",
       "      <td>0.403909</td>\n",
       "      <td>0.295943</td>\n",
       "      <td>0.352473</td>\n",
       "      <td>[[1202, 407], [183, 124]]</td>\n",
       "    </tr>\n",
       "  </tbody>\n",
       "</table>\n",
       "</div>"
      ],
      "text/plain": [
       "       model  accuracy  precision       AUC    recall        F1        F2  \\\n",
       "0  Logistics  0.655532   0.255201  0.632800  0.599349  0.357977  0.472037   \n",
       "1     Forest  0.628914   0.234211  0.609045  0.579805  0.333646  0.447686   \n",
       "2        GBM  0.732777   0.212885  0.536457  0.247557  0.228916  0.239748   \n",
       "3       Tree  0.692067   0.233522  0.575478  0.403909  0.295943  0.352473   \n",
       "\n",
       "            confusion matrix  \n",
       "0  [[1072, 537], [123, 184]]  \n",
       "1  [[1027, 582], [129, 178]]  \n",
       "2   [[1328, 281], [231, 76]]  \n",
       "3  [[1202, 407], [183, 124]]  "
      ]
     },
     "execution_count": 212,
     "metadata": {},
     "output_type": "execute_result"
    }
   ],
   "source": [
    "results_final"
   ]
  },
  {
   "cell_type": "markdown",
   "metadata": {},
   "source": [
    "The logistics regression still performs best followed by the random forest."
   ]
  }
 ],
 "metadata": {
  "kernelspec": {
   "display_name": "Python 3",
   "language": "python",
   "name": "python3"
  },
  "language_info": {
   "codemirror_mode": {
    "name": "ipython",
    "version": 3
   },
   "file_extension": ".py",
   "mimetype": "text/x-python",
   "name": "python",
   "nbconvert_exporter": "python",
   "pygments_lexer": "ipython3",
   "version": "3.8.5"
  }
 },
 "nbformat": 4,
 "nbformat_minor": 2
}
